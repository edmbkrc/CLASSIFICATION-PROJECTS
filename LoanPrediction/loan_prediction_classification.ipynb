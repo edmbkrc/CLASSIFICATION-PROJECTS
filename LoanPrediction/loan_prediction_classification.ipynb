{
 "cells": [
  {
   "cell_type": "markdown",
   "id": "aac45b1f-1d2c-41ce-847d-8de14dd8477f",
   "metadata": {},
   "source": [
    "# LOAN PREDICTION --- CLASSIFICATION"
   ]
  },
  {
   "cell_type": "markdown",
   "id": "628564de-66ae-4bb7-a6a4-72ec312a892c",
   "metadata": {},
   "source": [
    "<div style=\"text-align: center;\">\n",
    "<img src=\"https://encrypted-tbn0.gstatic.com/images?q=tbn:ANd9GcQIkqewCEtTvvOStWpryRD6b_9UiS-RXbXU9w&usqp=CAU\"  width=600>\n",
    "</div>"
   ]
  },
  {
   "cell_type": "raw",
   "id": "88ed329c-eb24-4471-b1b9-bbabbb325162",
   "metadata": {},
   "source": [
    "Data Dictionary\n",
    "\n",
    "The dataset consists of the following fields:\n",
    "• Loan ID: A unique Identifier for the loan information.\n",
    "• Customer ID: A unique identifier for the customer. Customers may have more than one loan.\n",
    "• Loan Status: A categorical variable indicating if the loan was paid back or defaulted.\n",
    "• Current Loan Amount: This is the loan amount that was either completely paid off, or the amount that was defaulted.\n",
    "• Term: A categorical variable indicating if it is a short term or long term loan.\n",
    "• Credit Score: A value between 0 and 800 indicating the riskiness of the borrowers credit history.\n",
    "• Years in current job: A categorical variable indicating how many years the customer has been in their current job.\n",
    "• Home Ownership: Categorical variable indicating home ownership. Values are \"Rent\", \"Home Mortgage\", and \"Own\". If the value is OWN, then the customer is a home owner with no mortgage\n",
    "• Annual Income: The customer's annual income\n",
    "• Purpose: A description of the purpose of the loan.\n",
    "• Monthly Debt: The customer's monthly payment for their existing loans\n",
    "• Years of Credit History: The years since the first entry in the customer’s credit history\n",
    "• Months since last delinquent: Months since the last loan delinquent payment\n",
    "• Number of Open Accounts: The total number of open credit cards\n",
    "• Number of Credit Problems: The number of credit problems in the customer records.\n",
    "• Current Credit Balance: The current total debt for the customer\n",
    "• Maximum Open Credit: The maximum credit limit for all credit sources.\n",
    "• Bankruptcies: The number of bankruptcies\n",
    "• Tax Liens: The number of tax liens.\n",
    "\n"
   ]
  },
  {
   "cell_type": "raw",
   "id": "a3a53ac6-60c2-423c-82d0-8b2138a219de",
   "metadata": {},
   "source": [
    "Business Objective\n",
    "The goal of this project is to assist a financial institution in identifying customers with a lower likelihood of defaulting on loans. By building a predictive model, our data science team aims to classify customers into those who are likely to be good borrowers. Based on the model's insights, we will also develop a set of questions to be asked when customers apply for a loan, enhancing the loan vetting process."
   ]
  },
  {
   "cell_type": "markdown",
   "id": "38d96ce9-f594-4a80-8b74-224fded68b4b",
   "metadata": {},
   "source": [
    "## Import libraries"
   ]
  },
  {
   "cell_type": "code",
   "execution_count": 132,
   "id": "a98369af-cc62-4b05-8610-340f9b8e9f34",
   "metadata": {},
   "outputs": [],
   "source": [
    "import pandas as pd\n",
    "import numpy as np\n",
    "import matplotlib.pyplot as plt\n",
    "import seaborn as sns\n",
    "\n",
    "from termcolor import colored\n",
    "\n",
    "import warnings \n",
    "warnings.filterwarnings(\"ignore\")\n",
    "\n",
    "pd.set_option(\"display.max_columns\",None)\n",
    "pd.set_option(\"display.width\",600)\n",
    "pd.set_option('display.float_format', lambda x: '%.5f' % x) \n",
    "\n",
    "from sklearn.impute import KNNImputer\n",
    "import miceforest as mf\n",
    "from sklearn.preprocessing import normalize,scale\n",
    "from sklearn.decomposition import PCA\n",
    "\n",
    "from pycaret.classification import*\n",
    "\n",
    "from sklearn.ensemble import ExtraTreesClassifier, RandomForestClassifier\n",
    "from sklearn.model_selection import train_test_split\n",
    "from sklearn.metrics import accuracy_score, confusion_matrix, classification_report"
   ]
  },
  {
   "cell_type": "markdown",
   "id": "7a839880-27f0-4790-adf1-a1592c6a4c10",
   "metadata": {},
   "source": [
    "## Load and EDA"
   ]
  },
  {
   "cell_type": "code",
   "execution_count": 2,
   "id": "3951c2ff-6dca-4bca-8044-57bb6c9a6b02",
   "metadata": {},
   "outputs": [
    {
     "data": {
      "text/html": [
       "<div>\n",
       "<style scoped>\n",
       "    .dataframe tbody tr th:only-of-type {\n",
       "        vertical-align: middle;\n",
       "    }\n",
       "\n",
       "    .dataframe tbody tr th {\n",
       "        vertical-align: top;\n",
       "    }\n",
       "\n",
       "    .dataframe thead th {\n",
       "        text-align: right;\n",
       "    }\n",
       "</style>\n",
       "<table border=\"1\" class=\"dataframe\">\n",
       "  <thead>\n",
       "    <tr style=\"text-align: right;\">\n",
       "      <th></th>\n",
       "      <th>Loan ID</th>\n",
       "      <th>Customer ID</th>\n",
       "      <th>Loan Status</th>\n",
       "      <th>Current Loan Amount</th>\n",
       "      <th>Term</th>\n",
       "      <th>Credit Score</th>\n",
       "      <th>Years in current job</th>\n",
       "      <th>Home Ownership</th>\n",
       "      <th>Annual Income</th>\n",
       "      <th>Purpose</th>\n",
       "      <th>Monthly Debt</th>\n",
       "      <th>Years of Credit History</th>\n",
       "      <th>Months since last delinquent</th>\n",
       "      <th>Number of Open Accounts</th>\n",
       "      <th>Number of Credit Problems</th>\n",
       "      <th>Current Credit Balance</th>\n",
       "      <th>Maximum Open Credit</th>\n",
       "      <th>Bankruptcies</th>\n",
       "      <th>Tax Liens</th>\n",
       "    </tr>\n",
       "  </thead>\n",
       "  <tbody>\n",
       "    <tr>\n",
       "      <th>0</th>\n",
       "      <td>000025bb-5694-4cff-b17d-192b1a98ba44</td>\n",
       "      <td>5ebc8bb1-5eb9-4404-b11b-a6eebc401a19</td>\n",
       "      <td>Fully Paid</td>\n",
       "      <td>11520</td>\n",
       "      <td>Short Term</td>\n",
       "      <td>741.00000</td>\n",
       "      <td>10+ years</td>\n",
       "      <td>Home Mortgage</td>\n",
       "      <td>33694.00000</td>\n",
       "      <td>Debt Consolidation</td>\n",
       "      <td>$584.03</td>\n",
       "      <td>12.30000</td>\n",
       "      <td>41.00000</td>\n",
       "      <td>10</td>\n",
       "      <td>0</td>\n",
       "      <td>6760</td>\n",
       "      <td>16056</td>\n",
       "      <td>0.00000</td>\n",
       "      <td>0.00000</td>\n",
       "    </tr>\n",
       "    <tr>\n",
       "      <th>1</th>\n",
       "      <td>00002c49-3a29-4bd4-8f67-c8f8fbc1048c</td>\n",
       "      <td>927b388d-2e01-423f-a8dc-f7e42d668f46</td>\n",
       "      <td>Fully Paid</td>\n",
       "      <td>3441</td>\n",
       "      <td>Short Term</td>\n",
       "      <td>734.00000</td>\n",
       "      <td>4 years</td>\n",
       "      <td>Home Mortgage</td>\n",
       "      <td>42269.00000</td>\n",
       "      <td>other</td>\n",
       "      <td>$1,106.04</td>\n",
       "      <td>26.30000</td>\n",
       "      <td>NaN</td>\n",
       "      <td>17</td>\n",
       "      <td>0</td>\n",
       "      <td>6262</td>\n",
       "      <td>19149</td>\n",
       "      <td>0.00000</td>\n",
       "      <td>0.00000</td>\n",
       "    </tr>\n",
       "    <tr>\n",
       "      <th>2</th>\n",
       "      <td>00002d89-27f3-409b-aa76-90834f359a65</td>\n",
       "      <td>defce609-c631-447d-aad6-1270615e89c4</td>\n",
       "      <td>Fully Paid</td>\n",
       "      <td>21029</td>\n",
       "      <td>Short Term</td>\n",
       "      <td>747.00000</td>\n",
       "      <td>10+ years</td>\n",
       "      <td>Home Mortgage</td>\n",
       "      <td>90126.00000</td>\n",
       "      <td>Debt Consolidation</td>\n",
       "      <td>$1,321.85</td>\n",
       "      <td>28.80000</td>\n",
       "      <td>NaN</td>\n",
       "      <td>5</td>\n",
       "      <td>0</td>\n",
       "      <td>20967</td>\n",
       "      <td>28335</td>\n",
       "      <td>0.00000</td>\n",
       "      <td>0.00000</td>\n",
       "    </tr>\n",
       "    <tr>\n",
       "      <th>3</th>\n",
       "      <td>00005222-b4d8-45a4-ad8c-186057e24233</td>\n",
       "      <td>070bcecb-aae7-4485-a26a-e0403e7bb6c5</td>\n",
       "      <td>Fully Paid</td>\n",
       "      <td>18743</td>\n",
       "      <td>Short Term</td>\n",
       "      <td>747.00000</td>\n",
       "      <td>10+ years</td>\n",
       "      <td>Own Home</td>\n",
       "      <td>38072.00000</td>\n",
       "      <td>Debt Consolidation</td>\n",
       "      <td>$751.92</td>\n",
       "      <td>26.20000</td>\n",
       "      <td>NaN</td>\n",
       "      <td>9</td>\n",
       "      <td>0</td>\n",
       "      <td>22529</td>\n",
       "      <td>43915</td>\n",
       "      <td>0.00000</td>\n",
       "      <td>0.00000</td>\n",
       "    </tr>\n",
       "    <tr>\n",
       "      <th>4</th>\n",
       "      <td>0000757f-a121-41ed-b17b-162e76647c1f</td>\n",
       "      <td>dde79588-12f0-4811-bab0-e2b07f633fcd</td>\n",
       "      <td>Fully Paid</td>\n",
       "      <td>11731</td>\n",
       "      <td>Short Term</td>\n",
       "      <td>746.00000</td>\n",
       "      <td>4 years</td>\n",
       "      <td>Rent</td>\n",
       "      <td>50025.00000</td>\n",
       "      <td>Debt Consolidation</td>\n",
       "      <td>$355.18</td>\n",
       "      <td>11.50000</td>\n",
       "      <td>NaN</td>\n",
       "      <td>12</td>\n",
       "      <td>0</td>\n",
       "      <td>17391</td>\n",
       "      <td>37081</td>\n",
       "      <td>0.00000</td>\n",
       "      <td>0.00000</td>\n",
       "    </tr>\n",
       "  </tbody>\n",
       "</table>\n",
       "</div>"
      ],
      "text/plain": [
       "                                Loan ID                           Customer ID Loan Status  Current Loan Amount        Term  Credit Score Years in current job Home Ownership  Annual Income             Purpose Monthly Debt  Years of Credit History  Months since last delinquent  Number of Open Accounts  Number of Credit Problems  Current Credit Balance Maximum Open Credit  Bankruptcies  Tax Liens\n",
       "0  000025bb-5694-4cff-b17d-192b1a98ba44  5ebc8bb1-5eb9-4404-b11b-a6eebc401a19  Fully Paid                11520  Short Term     741.00000            10+ years  Home Mortgage    33694.00000  Debt Consolidation      $584.03                 12.30000                      41.00000                       10                          0                    6760               16056       0.00000    0.00000\n",
       "1  00002c49-3a29-4bd4-8f67-c8f8fbc1048c  927b388d-2e01-423f-a8dc-f7e42d668f46  Fully Paid                 3441  Short Term     734.00000              4 years  Home Mortgage    42269.00000               other   $1,106.04                  26.30000                           NaN                       17                          0                    6262               19149       0.00000    0.00000\n",
       "2  00002d89-27f3-409b-aa76-90834f359a65  defce609-c631-447d-aad6-1270615e89c4  Fully Paid                21029  Short Term     747.00000            10+ years  Home Mortgage    90126.00000  Debt Consolidation   $1,321.85                  28.80000                           NaN                        5                          0                   20967               28335       0.00000    0.00000\n",
       "3  00005222-b4d8-45a4-ad8c-186057e24233  070bcecb-aae7-4485-a26a-e0403e7bb6c5  Fully Paid                18743  Short Term     747.00000            10+ years       Own Home    38072.00000  Debt Consolidation      $751.92                 26.20000                           NaN                        9                          0                   22529               43915       0.00000    0.00000\n",
       "4  0000757f-a121-41ed-b17b-162e76647c1f  dde79588-12f0-4811-bab0-e2b07f633fcd  Fully Paid                11731  Short Term     746.00000              4 years           Rent    50025.00000  Debt Consolidation      $355.18                 11.50000                           NaN                       12                          0                   17391               37081       0.00000    0.00000"
      ]
     },
     "execution_count": 2,
     "metadata": {},
     "output_type": "execute_result"
    }
   ],
   "source": [
    "df = pd.read_csv(\"LoansTrainingSet.csv\")\n",
    "df.head()"
   ]
  },
  {
   "cell_type": "code",
   "execution_count": 3,
   "id": "df7178e5-2ca5-4aee-ac04-f9349b822d9a",
   "metadata": {},
   "outputs": [
    {
     "data": {
      "text/html": [
       "<div>\n",
       "<style scoped>\n",
       "    .dataframe tbody tr th:only-of-type {\n",
       "        vertical-align: middle;\n",
       "    }\n",
       "\n",
       "    .dataframe tbody tr th {\n",
       "        vertical-align: top;\n",
       "    }\n",
       "\n",
       "    .dataframe thead th {\n",
       "        text-align: right;\n",
       "    }\n",
       "</style>\n",
       "<table border=\"1\" class=\"dataframe\">\n",
       "  <thead>\n",
       "    <tr style=\"text-align: right;\">\n",
       "      <th></th>\n",
       "      <th>Loan ID</th>\n",
       "      <th>Customer ID</th>\n",
       "      <th>Loan Status</th>\n",
       "      <th>Current Loan Amount</th>\n",
       "      <th>Term</th>\n",
       "      <th>Credit Score</th>\n",
       "      <th>Years in current job</th>\n",
       "      <th>Home Ownership</th>\n",
       "      <th>Annual Income</th>\n",
       "      <th>Purpose</th>\n",
       "      <th>Monthly Debt</th>\n",
       "      <th>Years of Credit History</th>\n",
       "      <th>Months since last delinquent</th>\n",
       "      <th>Number of Open Accounts</th>\n",
       "      <th>Number of Credit Problems</th>\n",
       "      <th>Current Credit Balance</th>\n",
       "      <th>Maximum Open Credit</th>\n",
       "      <th>Bankruptcies</th>\n",
       "      <th>Tax Liens</th>\n",
       "    </tr>\n",
       "  </thead>\n",
       "  <tbody>\n",
       "    <tr>\n",
       "      <th>256979</th>\n",
       "      <td>fffef5b7-be99-4666-ac70-2a397d2ee435</td>\n",
       "      <td>7211a8e3-cba4-4132-b939-222eed8a662c</td>\n",
       "      <td>Fully Paid</td>\n",
       "      <td>3911</td>\n",
       "      <td>Short Term</td>\n",
       "      <td>NaN</td>\n",
       "      <td>2 years</td>\n",
       "      <td>Rent</td>\n",
       "      <td>NaN</td>\n",
       "      <td>Debt Consolidation</td>\n",
       "      <td>$1,706.58</td>\n",
       "      <td>19.90000</td>\n",
       "      <td>NaN</td>\n",
       "      <td>16</td>\n",
       "      <td>0</td>\n",
       "      <td>43992</td>\n",
       "      <td>44080</td>\n",
       "      <td>0.00000</td>\n",
       "      <td>0.00000</td>\n",
       "    </tr>\n",
       "    <tr>\n",
       "      <th>256980</th>\n",
       "      <td>ffffca93-aa8c-4123-b8ff-7852f6df889a</td>\n",
       "      <td>616fef0c-8f09-4327-9b5c-48fcfaa52934</td>\n",
       "      <td>Fully Paid</td>\n",
       "      <td>5078</td>\n",
       "      <td>Short Term</td>\n",
       "      <td>737.00000</td>\n",
       "      <td>10+ years</td>\n",
       "      <td>Own Home</td>\n",
       "      <td>77186.00000</td>\n",
       "      <td>Debt Consolidation</td>\n",
       "      <td>$1,376.47</td>\n",
       "      <td>19.10000</td>\n",
       "      <td>47.00000</td>\n",
       "      <td>9</td>\n",
       "      <td>0</td>\n",
       "      <td>1717</td>\n",
       "      <td>9758</td>\n",
       "      <td>0.00000</td>\n",
       "      <td>0.00000</td>\n",
       "    </tr>\n",
       "    <tr>\n",
       "      <th>256981</th>\n",
       "      <td>ffffcb2e-e48e-4d2c-a0d6-ed6bce5bfdbe</td>\n",
       "      <td>971a6682-183b-4a52-8bce-1d3429ade295</td>\n",
       "      <td>Charged Off</td>\n",
       "      <td>12116</td>\n",
       "      <td>Short Term</td>\n",
       "      <td>7460.00000</td>\n",
       "      <td>9 years</td>\n",
       "      <td>Home Mortgage</td>\n",
       "      <td>52504.00000</td>\n",
       "      <td>Debt Consolidation</td>\n",
       "      <td>$297.96</td>\n",
       "      <td>15.10000</td>\n",
       "      <td>82.00000</td>\n",
       "      <td>8</td>\n",
       "      <td>0</td>\n",
       "      <td>3315</td>\n",
       "      <td>20090</td>\n",
       "      <td>0.00000</td>\n",
       "      <td>0.00000</td>\n",
       "    </tr>\n",
       "    <tr>\n",
       "      <th>256982</th>\n",
       "      <td>ffffcb2e-e48e-4d2c-a0d6-ed6bce5bfdbe</td>\n",
       "      <td>971a6682-183b-4a52-8bce-1d3429ade295</td>\n",
       "      <td>Charged Off</td>\n",
       "      <td>12116</td>\n",
       "      <td>Short Term</td>\n",
       "      <td>746.00000</td>\n",
       "      <td>9 years</td>\n",
       "      <td>Home Mortgage</td>\n",
       "      <td>52504.00000</td>\n",
       "      <td>Debt Consolidation</td>\n",
       "      <td>$297.96</td>\n",
       "      <td>15.10000</td>\n",
       "      <td>82.00000</td>\n",
       "      <td>8</td>\n",
       "      <td>0</td>\n",
       "      <td>3315</td>\n",
       "      <td>20090</td>\n",
       "      <td>0.00000</td>\n",
       "      <td>0.00000</td>\n",
       "    </tr>\n",
       "    <tr>\n",
       "      <th>256983</th>\n",
       "      <td>ffffe32e-ed17-459f-9cfd-7b9ee7972933</td>\n",
       "      <td>97281336-1e45-41d2-acb2-263ce56a590e</td>\n",
       "      <td>Fully Paid</td>\n",
       "      <td>27902</td>\n",
       "      <td>Long Term</td>\n",
       "      <td>678.00000</td>\n",
       "      <td>10+ years</td>\n",
       "      <td>Home Mortgage</td>\n",
       "      <td>117480.00000</td>\n",
       "      <td>Debt Consolidation</td>\n",
       "      <td>$2,525.82</td>\n",
       "      <td>18.00000</td>\n",
       "      <td>11.00000</td>\n",
       "      <td>10</td>\n",
       "      <td>0</td>\n",
       "      <td>28317</td>\n",
       "      <td>62371</td>\n",
       "      <td>0.00000</td>\n",
       "      <td>0.00000</td>\n",
       "    </tr>\n",
       "  </tbody>\n",
       "</table>\n",
       "</div>"
      ],
      "text/plain": [
       "                                     Loan ID                           Customer ID  Loan Status  Current Loan Amount        Term  Credit Score Years in current job Home Ownership  Annual Income             Purpose Monthly Debt  Years of Credit History  Months since last delinquent  Number of Open Accounts  Number of Credit Problems  Current Credit Balance Maximum Open Credit  Bankruptcies  Tax Liens\n",
       "256979  fffef5b7-be99-4666-ac70-2a397d2ee435  7211a8e3-cba4-4132-b939-222eed8a662c   Fully Paid                 3911  Short Term           NaN              2 years           Rent            NaN  Debt Consolidation   $1,706.58                  19.90000                           NaN                       16                          0                   43992               44080       0.00000    0.00000\n",
       "256980  ffffca93-aa8c-4123-b8ff-7852f6df889a  616fef0c-8f09-4327-9b5c-48fcfaa52934   Fully Paid                 5078  Short Term     737.00000            10+ years       Own Home    77186.00000  Debt Consolidation   $1,376.47                  19.10000                      47.00000                        9                          0                    1717                9758       0.00000    0.00000\n",
       "256981  ffffcb2e-e48e-4d2c-a0d6-ed6bce5bfdbe  971a6682-183b-4a52-8bce-1d3429ade295  Charged Off                12116  Short Term    7460.00000              9 years  Home Mortgage    52504.00000  Debt Consolidation      $297.96                 15.10000                      82.00000                        8                          0                    3315               20090       0.00000    0.00000\n",
       "256982  ffffcb2e-e48e-4d2c-a0d6-ed6bce5bfdbe  971a6682-183b-4a52-8bce-1d3429ade295  Charged Off                12116  Short Term     746.00000              9 years  Home Mortgage    52504.00000  Debt Consolidation      $297.96                 15.10000                      82.00000                        8                          0                    3315               20090       0.00000    0.00000\n",
       "256983  ffffe32e-ed17-459f-9cfd-7b9ee7972933  97281336-1e45-41d2-acb2-263ce56a590e   Fully Paid                27902   Long Term     678.00000            10+ years  Home Mortgage   117480.00000  Debt Consolidation   $2,525.82                  18.00000                      11.00000                       10                          0                   28317               62371       0.00000    0.00000"
      ]
     },
     "execution_count": 3,
     "metadata": {},
     "output_type": "execute_result"
    }
   ],
   "source": [
    "df.tail()"
   ]
  },
  {
   "cell_type": "code",
   "execution_count": 4,
   "id": "d6b94ee6-68ee-4e33-90c2-60dff36441f3",
   "metadata": {},
   "outputs": [
    {
     "name": "stdout",
     "output_type": "stream",
     "text": [
      "******************************* SHAPE ********************************\n",
      "Observations -------> 256984\n",
      "Features     -------> 19\n",
      "Shape of dataset: \u001b[31m(256984, 19)\u001b[0m\n",
      "************************* TYPES OF FEATURES **************************\n",
      "Loan ID                          object\n",
      "Customer ID                      object\n",
      "Loan Status                      object\n",
      "Current Loan Amount               int64\n",
      "Term                             object\n",
      "Credit Score                    float64\n",
      "Years in current job             object\n",
      "Home Ownership                   object\n",
      "Annual Income                   float64\n",
      "Purpose                          object\n",
      "Monthly Debt                     object\n",
      "Years of Credit History         float64\n",
      "Months since last delinquent    float64\n",
      "Number of Open Accounts           int64\n",
      "Number of Credit Problems         int64\n",
      "Current Credit Balance            int64\n",
      "Maximum Open Credit              object\n",
      "Bankruptcies                    float64\n",
      "Tax Liens                       float64\n",
      "dtype: object \n",
      "\n",
      "******************************** INFO ********************************\n",
      "<class 'pandas.core.frame.DataFrame'>\n",
      "RangeIndex: 256984 entries, 0 to 256983\n",
      "Data columns (total 19 columns):\n",
      " #   Column                        Non-Null Count   Dtype  \n",
      "---  ------                        --------------   -----  \n",
      " 0   Loan ID                       256984 non-null  object \n",
      " 1   Customer ID                   256984 non-null  object \n",
      " 2   Loan Status                   256984 non-null  object \n",
      " 3   Current Loan Amount           256984 non-null  int64  \n",
      " 4   Term                          256984 non-null  object \n",
      " 5   Credit Score                  195308 non-null  float64\n",
      " 6   Years in current job          245508 non-null  object \n",
      " 7   Home Ownership                256984 non-null  object \n",
      " 8   Annual Income                 195308 non-null  float64\n",
      " 9   Purpose                       256984 non-null  object \n",
      " 10  Monthly Debt                  256984 non-null  object \n",
      " 11  Years of Credit History       256984 non-null  float64\n",
      " 12  Months since last delinquent  116601 non-null  float64\n",
      " 13  Number of Open Accounts       256984 non-null  int64  \n",
      " 14  Number of Credit Problems     256984 non-null  int64  \n",
      " 15  Current Credit Balance        256984 non-null  int64  \n",
      " 16  Maximum Open Credit           256984 non-null  object \n",
      " 17  Bankruptcies                  256455 non-null  float64\n",
      " 18  Tax Liens                     256961 non-null  float64\n",
      "dtypes: float64(6), int64(4), object(9)\n",
      "memory usage: 37.3+ MB\n",
      "\n",
      " None \n",
      "\n",
      "********************** DUPLICATE VALUE ANALYSIS **********************\n",
      "\n",
      " 16610 \n",
      "\n",
      "***************************** QUANTILES ******************************\n",
      "                               0.00000     0.05000     0.50000        0.95000        0.90000        1.00000\n",
      "Current Loan Amount          505.00000  3558.15000 14298.00000 99999999.00000 99999999.00000 99999999.00000\n",
      "Credit Score                 585.00000   667.00000   733.00000     7110.00000      750.00000     7510.00000\n",
      "Annual Income                  0.00000 27342.00000 61242.00000   147083.45000   119271.60000  8713547.00000\n",
      "Years of Credit History        3.40000     9.00000    17.00000       31.90000       27.80000       70.50000\n",
      "Months since last delinquent   0.00000     5.00000    32.00000       75.00000       68.00000      176.00000\n",
      "Number of Open Accounts        0.00000     5.00000    10.00000       20.00000       18.00000       76.00000\n",
      "Number of Credit Problems      0.00000     0.00000     0.00000        1.00000        1.00000       11.00000\n",
      "Current Credit Balance         0.00000  1590.00000 11078.00000    39669.70000    30780.00000  1731412.00000\n",
      "Bankruptcies                   0.00000     0.00000     0.00000        1.00000        1.00000        7.00000\n",
      "Tax Liens                      0.00000     0.00000     0.00000        0.00000        0.00000       11.00000 \n",
      "\n",
      "*************************** MISSING VALUES ***************************\n",
      "Loan ID                              0\n",
      "Customer ID                          0\n",
      "Loan Status                          0\n",
      "Current Loan Amount                  0\n",
      "Term                                 0\n",
      "Credit Score                     61676\n",
      "Years in current job             11476\n",
      "Home Ownership                       0\n",
      "Annual Income                    61676\n",
      "Purpose                              0\n",
      "Monthly Debt                         0\n",
      "Years of Credit History              0\n",
      "Months since last delinquent    140383\n",
      "Number of Open Accounts              0\n",
      "Number of Credit Problems            0\n",
      "Current Credit Balance               0\n",
      "Maximum Open Credit                  0\n",
      "Bankruptcies                       529\n",
      "Tax Liens                           23\n",
      "dtype: int64\n"
     ]
    }
   ],
   "source": [
    "def check_df(df, head=5, tail=5):\n",
    "    print(\" SHAPE \".center(70, '*'))\n",
    "    print('Observations -------> {}'.format(df.shape[0]))\n",
    "    print('Features     -------> {}'.format(df.shape[1]))\n",
    "    print(f\"Shape of dataset: {colored(df.shape, 'red')}\")\n",
    "    print(\" TYPES OF FEATURES \".center(70, '*'))\n",
    "    print(df.dtypes,\"\\n\")\n",
    "    print(\" INFO \".center(70, \"*\"))\n",
    "    print(\"\\n\",df.info(),\"\\n\")\n",
    "    print(' DUPLICATE VALUE ANALYSIS '.center(70, '*'))\n",
    "    print(\"\\n\",df.duplicated().sum(),\"\\n\")\n",
    "    print(\" QUANTILES \".center(70, '*'))\n",
    "    numerical_df = df.select_dtypes(include=[\"number\"])\n",
    "    print(numerical_df.quantile([0, 0.05, 0.50, 0.95, 0.90, 1]).T, \"\\n\")\n",
    "    print(\" MISSING VALUES \".center(70, \"*\"))\n",
    "    print(df.isnull().sum())\n",
    "\n",
    "check_df(df)"
   ]
  },
  {
   "cell_type": "code",
   "execution_count": 5,
   "id": "4a643079-19a5-4930-ac48-1152d2b0116e",
   "metadata": {},
   "outputs": [
    {
     "data": {
      "text/html": [
       "<div>\n",
       "<style scoped>\n",
       "    .dataframe tbody tr th:only-of-type {\n",
       "        vertical-align: middle;\n",
       "    }\n",
       "\n",
       "    .dataframe tbody tr th {\n",
       "        vertical-align: top;\n",
       "    }\n",
       "\n",
       "    .dataframe thead th {\n",
       "        text-align: right;\n",
       "    }\n",
       "</style>\n",
       "<table border=\"1\" class=\"dataframe\">\n",
       "  <thead>\n",
       "    <tr style=\"text-align: right;\">\n",
       "      <th></th>\n",
       "      <th>Number of Unique</th>\n",
       "    </tr>\n",
       "  </thead>\n",
       "  <tbody>\n",
       "    <tr>\n",
       "      <th>Loan ID</th>\n",
       "      <td>215700</td>\n",
       "    </tr>\n",
       "    <tr>\n",
       "      <th>Customer ID</th>\n",
       "      <td>215700</td>\n",
       "    </tr>\n",
       "    <tr>\n",
       "      <th>Monthly Debt</th>\n",
       "      <td>129115</td>\n",
       "    </tr>\n",
       "    <tr>\n",
       "      <th>Maximum Open Credit</th>\n",
       "      <td>87188</td>\n",
       "    </tr>\n",
       "    <tr>\n",
       "      <th>Annual Income</th>\n",
       "      <td>60558</td>\n",
       "    </tr>\n",
       "    <tr>\n",
       "      <th>Current Credit Balance</th>\n",
       "      <td>45704</td>\n",
       "    </tr>\n",
       "    <tr>\n",
       "      <th>Current Loan Amount</th>\n",
       "      <td>27347</td>\n",
       "    </tr>\n",
       "    <tr>\n",
       "      <th>Years of Credit History</th>\n",
       "      <td>541</td>\n",
       "    </tr>\n",
       "    <tr>\n",
       "      <th>Credit Score</th>\n",
       "      <td>334</td>\n",
       "    </tr>\n",
       "    <tr>\n",
       "      <th>Months since last delinquent</th>\n",
       "      <td>131</td>\n",
       "    </tr>\n",
       "    <tr>\n",
       "      <th>Number of Open Accounts</th>\n",
       "      <td>59</td>\n",
       "    </tr>\n",
       "    <tr>\n",
       "      <th>Number of Credit Problems</th>\n",
       "      <td>12</td>\n",
       "    </tr>\n",
       "    <tr>\n",
       "      <th>Tax Liens</th>\n",
       "      <td>12</td>\n",
       "    </tr>\n",
       "    <tr>\n",
       "      <th>Years in current job</th>\n",
       "      <td>11</td>\n",
       "    </tr>\n",
       "    <tr>\n",
       "      <th>Purpose</th>\n",
       "      <td>10</td>\n",
       "    </tr>\n",
       "    <tr>\n",
       "      <th>Bankruptcies</th>\n",
       "      <td>8</td>\n",
       "    </tr>\n",
       "    <tr>\n",
       "      <th>Home Ownership</th>\n",
       "      <td>4</td>\n",
       "    </tr>\n",
       "    <tr>\n",
       "      <th>Term</th>\n",
       "      <td>2</td>\n",
       "    </tr>\n",
       "    <tr>\n",
       "      <th>Loan Status</th>\n",
       "      <td>2</td>\n",
       "    </tr>\n",
       "  </tbody>\n",
       "</table>\n",
       "</div>"
      ],
      "text/plain": [
       "                              Number of Unique\n",
       "Loan ID                                 215700\n",
       "Customer ID                             215700\n",
       "Monthly Debt                            129115\n",
       "Maximum Open Credit                      87188\n",
       "Annual Income                            60558\n",
       "Current Credit Balance                   45704\n",
       "Current Loan Amount                      27347\n",
       "Years of Credit History                    541\n",
       "Credit Score                               334\n",
       "Months since last delinquent               131\n",
       "Number of Open Accounts                     59\n",
       "Number of Credit Problems                   12\n",
       "Tax Liens                                   12\n",
       "Years in current job                        11\n",
       "Purpose                                     10\n",
       "Bankruptcies                                 8\n",
       "Home Ownership                               4\n",
       "Term                                         2\n",
       "Loan Status                                  2"
      ]
     },
     "execution_count": 5,
     "metadata": {},
     "output_type": "execute_result"
    }
   ],
   "source": [
    "## Thus we found number of unique values of all columns with this function \n",
    "def check_unique(df):\n",
    "\n",
    "  dict = {}\n",
    "  for i in list(df.columns):\n",
    "    dict[i] = df[i].nunique()\n",
    "  nunq = pd.DataFrame(dict,index=[\"Number of Unique\"]).transpose().sort_values(by=\"Number of Unique\",ascending=False)\n",
    "  return nunq\n",
    "check_unique(df)  \n",
    "\n"
   ]
  },
  {
   "cell_type": "code",
   "execution_count": 6,
   "id": "8ff30f86-c54f-46c5-ae8b-e63592ccaead",
   "metadata": {},
   "outputs": [
    {
     "data": {
      "text/html": [
       "<div>\n",
       "<style scoped>\n",
       "    .dataframe tbody tr th:only-of-type {\n",
       "        vertical-align: middle;\n",
       "    }\n",
       "\n",
       "    .dataframe tbody tr th {\n",
       "        vertical-align: top;\n",
       "    }\n",
       "\n",
       "    .dataframe thead th {\n",
       "        text-align: right;\n",
       "    }\n",
       "</style>\n",
       "<table border=\"1\" class=\"dataframe\">\n",
       "  <thead>\n",
       "    <tr style=\"text-align: right;\">\n",
       "      <th></th>\n",
       "      <th>count</th>\n",
       "      <th>mean</th>\n",
       "      <th>std</th>\n",
       "      <th>min</th>\n",
       "      <th>25%</th>\n",
       "      <th>50%</th>\n",
       "      <th>75%</th>\n",
       "      <th>max</th>\n",
       "    </tr>\n",
       "  </thead>\n",
       "  <tbody>\n",
       "    <tr>\n",
       "      <th>Current Loan Amount</th>\n",
       "      <td>256984.00000</td>\n",
       "      <td>13713306.26024</td>\n",
       "      <td>34381306.56938</td>\n",
       "      <td>505.00000</td>\n",
       "      <td>8299.00000</td>\n",
       "      <td>14298.00000</td>\n",
       "      <td>24367.00000</td>\n",
       "      <td>99999999.00000</td>\n",
       "    </tr>\n",
       "    <tr>\n",
       "      <th>Credit Score</th>\n",
       "      <td>195308.00000</td>\n",
       "      <td>1251.11610</td>\n",
       "      <td>1762.01685</td>\n",
       "      <td>585.00000</td>\n",
       "      <td>714.00000</td>\n",
       "      <td>733.00000</td>\n",
       "      <td>744.00000</td>\n",
       "      <td>7510.00000</td>\n",
       "    </tr>\n",
       "    <tr>\n",
       "      <th>Annual Income</th>\n",
       "      <td>195308.00000</td>\n",
       "      <td>71952.71619</td>\n",
       "      <td>58877.57462</td>\n",
       "      <td>0.00000</td>\n",
       "      <td>44321.00000</td>\n",
       "      <td>61242.00000</td>\n",
       "      <td>86462.00000</td>\n",
       "      <td>8713547.00000</td>\n",
       "    </tr>\n",
       "    <tr>\n",
       "      <th>Years of Credit History</th>\n",
       "      <td>256984.00000</td>\n",
       "      <td>18.29019</td>\n",
       "      <td>7.07575</td>\n",
       "      <td>3.40000</td>\n",
       "      <td>13.50000</td>\n",
       "      <td>17.00000</td>\n",
       "      <td>21.70000</td>\n",
       "      <td>70.50000</td>\n",
       "    </tr>\n",
       "    <tr>\n",
       "      <th>Months since last delinquent</th>\n",
       "      <td>116601.00000</td>\n",
       "      <td>34.88145</td>\n",
       "      <td>21.85417</td>\n",
       "      <td>0.00000</td>\n",
       "      <td>16.00000</td>\n",
       "      <td>32.00000</td>\n",
       "      <td>51.00000</td>\n",
       "      <td>176.00000</td>\n",
       "    </tr>\n",
       "    <tr>\n",
       "      <th>Number of Open Accounts</th>\n",
       "      <td>256984.00000</td>\n",
       "      <td>11.10627</td>\n",
       "      <td>4.98298</td>\n",
       "      <td>0.00000</td>\n",
       "      <td>8.00000</td>\n",
       "      <td>10.00000</td>\n",
       "      <td>14.00000</td>\n",
       "      <td>76.00000</td>\n",
       "    </tr>\n",
       "    <tr>\n",
       "      <th>Number of Credit Problems</th>\n",
       "      <td>256984.00000</td>\n",
       "      <td>0.15663</td>\n",
       "      <td>0.46073</td>\n",
       "      <td>0.00000</td>\n",
       "      <td>0.00000</td>\n",
       "      <td>0.00000</td>\n",
       "      <td>0.00000</td>\n",
       "      <td>11.00000</td>\n",
       "    </tr>\n",
       "    <tr>\n",
       "      <th>Current Credit Balance</th>\n",
       "      <td>256984.00000</td>\n",
       "      <td>15406.55629</td>\n",
       "      <td>19665.05731</td>\n",
       "      <td>0.00000</td>\n",
       "      <td>5974.00000</td>\n",
       "      <td>11078.00000</td>\n",
       "      <td>19319.00000</td>\n",
       "      <td>1731412.00000</td>\n",
       "    </tr>\n",
       "    <tr>\n",
       "      <th>Bankruptcies</th>\n",
       "      <td>256455.00000</td>\n",
       "      <td>0.11032</td>\n",
       "      <td>0.33623</td>\n",
       "      <td>0.00000</td>\n",
       "      <td>0.00000</td>\n",
       "      <td>0.00000</td>\n",
       "      <td>0.00000</td>\n",
       "      <td>7.00000</td>\n",
       "    </tr>\n",
       "    <tr>\n",
       "      <th>Tax Liens</th>\n",
       "      <td>256961.00000</td>\n",
       "      <td>0.02720</td>\n",
       "      <td>0.24595</td>\n",
       "      <td>0.00000</td>\n",
       "      <td>0.00000</td>\n",
       "      <td>0.00000</td>\n",
       "      <td>0.00000</td>\n",
       "      <td>11.00000</td>\n",
       "    </tr>\n",
       "  </tbody>\n",
       "</table>\n",
       "</div>"
      ],
      "text/plain": [
       "                                    count           mean            std       min         25%         50%         75%            max\n",
       "Current Loan Amount          256984.00000 13713306.26024 34381306.56938 505.00000  8299.00000 14298.00000 24367.00000 99999999.00000\n",
       "Credit Score                 195308.00000     1251.11610     1762.01685 585.00000   714.00000   733.00000   744.00000     7510.00000\n",
       "Annual Income                195308.00000    71952.71619    58877.57462   0.00000 44321.00000 61242.00000 86462.00000  8713547.00000\n",
       "Years of Credit History      256984.00000       18.29019        7.07575   3.40000    13.50000    17.00000    21.70000       70.50000\n",
       "Months since last delinquent 116601.00000       34.88145       21.85417   0.00000    16.00000    32.00000    51.00000      176.00000\n",
       "Number of Open Accounts      256984.00000       11.10627        4.98298   0.00000     8.00000    10.00000    14.00000       76.00000\n",
       "Number of Credit Problems    256984.00000        0.15663        0.46073   0.00000     0.00000     0.00000     0.00000       11.00000\n",
       "Current Credit Balance       256984.00000    15406.55629    19665.05731   0.00000  5974.00000 11078.00000 19319.00000  1731412.00000\n",
       "Bankruptcies                 256455.00000        0.11032        0.33623   0.00000     0.00000     0.00000     0.00000        7.00000\n",
       "Tax Liens                    256961.00000        0.02720        0.24595   0.00000     0.00000     0.00000     0.00000       11.00000"
      ]
     },
     "execution_count": 6,
     "metadata": {},
     "output_type": "execute_result"
    }
   ],
   "source": [
    "df.describe().T"
   ]
  },
  {
   "cell_type": "code",
   "execution_count": 7,
   "id": "7de50561-30eb-4ec1-925b-1b2f412da9b4",
   "metadata": {},
   "outputs": [
    {
     "data": {
      "image/png": "[encoded data removed]",
      "text/plain": [
       "<Figure size 2100x1300 with 2 Axes>"
      ]
     },
     "metadata": {},
     "output_type": "display_data"
    }
   ],
   "source": [
    "plt.figure(figsize=(21,13))\n",
    "plt.xticks(rotation=45, size=15)\n",
    "plt.title(\"COORRELATION MAP\")\n",
    "sns.heatmap(df.corr(numeric_only=True), annot=True, cmap=plt.cm.CMRmap_r);"
   ]
  },
  {
   "cell_type": "code",
   "execution_count": 8,
   "id": "788f8be0-d8d8-4886-a353-84eb123689d6",
   "metadata": {},
   "outputs": [],
   "source": [
    "#sns.pairplot(df, hue=\"Loan Status\", corner=True);"
   ]
  },
  {
   "cell_type": "code",
   "execution_count": 9,
   "id": "fea6959f-3fe0-4007-b5bb-af9ba2082bb2",
   "metadata": {},
   "outputs": [
    {
     "data": {
      "text/plain": [
       "Loan Status\n",
       "Fully Paid     176191\n",
       "Charged Off     80793\n",
       "Name: count, dtype: int64"
      ]
     },
     "execution_count": 9,
     "metadata": {},
     "output_type": "execute_result"
    }
   ],
   "source": [
    "df[\"Loan Status\"].value_counts()"
   ]
  },
  {
   "cell_type": "code",
   "execution_count": 10,
   "id": "aa67abde-c631-4dce-9afa-840683f50831",
   "metadata": {},
   "outputs": [
    {
     "data": {
      "text/plain": [
       "Loan Status\n",
       "1    176191\n",
       "0     80793\n",
       "Name: count, dtype: int64"
      ]
     },
     "execution_count": 10,
     "metadata": {},
     "output_type": "execute_result"
    }
   ],
   "source": [
    "d = {\"Fully Paid\":1, \"Charged Off\":0}\n",
    "df[\"Loan Status\"] = df[\"Loan Status\"].map(d)\n",
    "df[\"Loan Status\"].value_counts()"
   ]
  },
  {
   "cell_type": "code",
   "execution_count": 11,
   "id": "1f8be601-bff9-489b-959a-fa0d12a7880f",
   "metadata": {},
   "outputs": [
    {
     "data": {
      "image/png": "[encoded data removed]",
      "text/plain": [
       "<Figure size 640x480 with 1 Axes>"
      ]
     },
     "metadata": {},
     "output_type": "display_data"
    }
   ],
   "source": [
    "sns.countplot(x=df[\"Loan Status\"]);"
   ]
  },
  {
   "cell_type": "code",
   "execution_count": 12,
   "id": "36f0e765-09da-4a01-8454-45b98f9a096e",
   "metadata": {},
   "outputs": [
    {
     "data": {
      "text/plain": [
       "Loan Status                    1.00000\n",
       "Credit Score                   0.44031\n",
       "Current Loan Amount            0.26980\n",
       "Annual Income                  0.07033\n",
       "Years of Credit History        0.03555\n",
       "Months since last delinquent   0.02354\n",
       "Number of Open Accounts        0.02079\n",
       "Tax Liens                      0.01259\n",
       "Number of Credit Problems      0.01018\n",
       "Current Credit Balance         0.00884\n",
       "Bankruptcies                   0.00115\n",
       "Name: Loan Status, dtype: float64"
      ]
     },
     "execution_count": 12,
     "metadata": {},
     "output_type": "execute_result"
    }
   ],
   "source": [
    "abs(df.corr(numeric_only=True)[\"Loan Status\"]).sort_values(ascending=False)"
   ]
  },
  {
   "cell_type": "markdown",
   "id": "9dc12096-df6e-41b4-9ca3-870fd060fb34",
   "metadata": {},
   "source": [
    "## Removing Features that can not affect the model"
   ]
  },
  {
   "cell_type": "code",
   "execution_count": 13,
   "id": "23178583-56eb-456e-8964-f71353e1c6fd",
   "metadata": {},
   "outputs": [],
   "source": [
    "df = df.drop([\"Loan ID\",\"Customer ID\"],axis=1)"
   ]
  },
  {
   "cell_type": "markdown",
   "id": "eec99c90-6cfa-44b1-b2c1-3ff7a29d6055",
   "metadata": {},
   "source": [
    "## Removing Duplicate Rows"
   ]
  },
  {
   "cell_type": "code",
   "execution_count": 14,
   "id": "76b7e8c8-a77f-4e85-b8c7-faa3a51cd706",
   "metadata": {},
   "outputs": [
    {
     "data": {
      "text/plain": [
       "16610"
      ]
     },
     "execution_count": 14,
     "metadata": {},
     "output_type": "execute_result"
    }
   ],
   "source": [
    "df.duplicated().sum()"
   ]
  },
  {
   "cell_type": "code",
   "execution_count": 15,
   "id": "efda1ebd-f470-4756-a6de-cc93e158e8f4",
   "metadata": {},
   "outputs": [],
   "source": [
    "df = df.drop_duplicates()"
   ]
  },
  {
   "cell_type": "markdown",
   "id": "4f249258-eeaa-48dc-930a-515838c1617b",
   "metadata": {},
   "source": [
    "## Handling missing values and Feature Engineering"
   ]
  },
  {
   "cell_type": "code",
   "execution_count": 16,
   "id": "ded31cd4-82d4-46f4-9d11-a1cf3763860d",
   "metadata": {},
   "outputs": [
    {
     "data": {
      "text/plain": [
       "Loan Status                          0\n",
       "Current Loan Amount                  0\n",
       "Term                                 0\n",
       "Credit Score                     59346\n",
       "Years in current job             10444\n",
       "Home Ownership                       0\n",
       "Annual Income                    59346\n",
       "Purpose                              0\n",
       "Monthly Debt                         0\n",
       "Years of Credit History              0\n",
       "Months since last delinquent    131427\n",
       "Number of Open Accounts              0\n",
       "Number of Credit Problems            0\n",
       "Current Credit Balance               0\n",
       "Maximum Open Credit                  0\n",
       "Bankruptcies                       492\n",
       "Tax Liens                           23\n",
       "dtype: int64"
      ]
     },
     "execution_count": 16,
     "metadata": {},
     "output_type": "execute_result"
    }
   ],
   "source": [
    "df.isnull().sum()"
   ]
  },
  {
   "cell_type": "code",
   "execution_count": 17,
   "id": "a1d50c86-e033-4fe9-a9d8-916d54dfb974",
   "metadata": {},
   "outputs": [
    {
     "data": {
      "text/plain": [
       "count   181028.00000\n",
       "mean      1236.27408\n",
       "std       1737.76563\n",
       "min        585.00000\n",
       "25%        715.00000\n",
       "50%        734.00000\n",
       "75%        744.00000\n",
       "max       7510.00000\n",
       "Name: Credit Score, dtype: float64"
      ]
     },
     "execution_count": 17,
     "metadata": {},
     "output_type": "execute_result"
    }
   ],
   "source": [
    "# Credit Score\n",
    "# Credit Score: A value between 0 and 800 indicating the riskiness of the borrowers credit history.\n",
    "df[\"Credit Score\"].describe().T"
   ]
  },
  {
   "cell_type": "code",
   "execution_count": 18,
   "id": "21b92123-6515-4e49-881c-fa9c8845e619",
   "metadata": {},
   "outputs": [
    {
     "data": {
      "image/png": "[encoded data removed]",
      "text/plain": [
       "<Figure size 640x480 with 1 Axes>"
      ]
     },
     "metadata": {},
     "output_type": "display_data"
    }
   ],
   "source": [
    "sns.histplot(df[\"Credit Score\"], bins=50, kde=True, color=\"darkblue\");"
   ]
  },
  {
   "cell_type": "code",
   "execution_count": 19,
   "id": "6310a629-ddc1-4b75-aac3-1d7028ca7d00",
   "metadata": {},
   "outputs": [],
   "source": [
    "df.loc[df[\"Credit Score\"] > 800,\"Credit Score\"] = df[\"Credit Score\"]/10"
   ]
  },
  {
   "cell_type": "code",
   "execution_count": 20,
   "id": "811f7f5b-a9aa-46fd-8b7e-36e0ef16a774",
   "metadata": {},
   "outputs": [
    {
     "data": {
      "text/plain": [
       "59346"
      ]
     },
     "execution_count": 20,
     "metadata": {},
     "output_type": "execute_result"
    }
   ],
   "source": [
    "df[\"Credit Score\"].isnull().sum()"
   ]
  },
  {
   "cell_type": "code",
   "execution_count": 21,
   "id": "bb4a4171-8010-409b-b53f-444b9ceb2515",
   "metadata": {},
   "outputs": [
    {
     "data": {
      "text/plain": [
       "Credit Score                   1.00000\n",
       "Loan Status                    0.25704\n",
       "Years of Credit History        0.08654\n",
       "Current Loan Amount            0.07159\n",
       "Number of Credit Problems      0.05892\n",
       "Months since last delinquent   0.04646\n",
       "Bankruptcies                   0.04466\n",
       "Number of Open Accounts        0.04142\n",
       "Tax Liens                      0.02726\n",
       "Current Credit Balance         0.01507\n",
       "Annual Income                  0.01470\n",
       "Name: Credit Score, dtype: float64"
      ]
     },
     "execution_count": 21,
     "metadata": {},
     "output_type": "execute_result"
    }
   ],
   "source": [
    "abs(df.corr(numeric_only=True)[\"Credit Score\"]).sort_values(ascending=False)"
   ]
  },
  {
   "cell_type": "code",
   "execution_count": 22,
   "id": "edc96441-351f-4736-892e-6d235cd97181",
   "metadata": {},
   "outputs": [],
   "source": [
    "# Credit Score is correlated 25% with Loan Status"
   ]
  },
  {
   "cell_type": "code",
   "execution_count": 23,
   "id": "9dd5e4e5-0e8e-44a2-8754-5a1d34fb7b96",
   "metadata": {},
   "outputs": [],
   "source": [
    "df[\"Credit Score\"] = df[\"Credit Score\"].fillna(df.groupby(\"Loan Status\")[\"Credit Score\"].transform(\"mean\"))"
   ]
  },
  {
   "cell_type": "code",
   "execution_count": 24,
   "id": "b212ab74-2c0f-478b-9872-08d7fb84bc40",
   "metadata": {},
   "outputs": [
    {
     "data": {
      "text/plain": [
       "Loan Status                          0\n",
       "Current Loan Amount                  0\n",
       "Term                                 0\n",
       "Credit Score                         0\n",
       "Years in current job             10444\n",
       "Home Ownership                       0\n",
       "Annual Income                    59346\n",
       "Purpose                              0\n",
       "Monthly Debt                         0\n",
       "Years of Credit History              0\n",
       "Months since last delinquent    131427\n",
       "Number of Open Accounts              0\n",
       "Number of Credit Problems            0\n",
       "Current Credit Balance               0\n",
       "Maximum Open Credit                  0\n",
       "Bankruptcies                       492\n",
       "Tax Liens                           23\n",
       "dtype: int64"
      ]
     },
     "execution_count": 24,
     "metadata": {},
     "output_type": "execute_result"
    }
   ],
   "source": [
    "df.isnull().sum()"
   ]
  },
  {
   "cell_type": "code",
   "execution_count": 25,
   "id": "0a19af24-d5b9-4ea3-ad34-37a3f918c5a7",
   "metadata": {},
   "outputs": [],
   "source": [
    "# Years in current job"
   ]
  },
  {
   "cell_type": "code",
   "execution_count": 26,
   "id": "71c1c0f9-13cf-486f-94f2-0810b972f852",
   "metadata": {},
   "outputs": [
    {
     "data": {
      "text/plain": [
       "Years in current job\n",
       "10+ years    73965\n",
       "2 years      21972\n",
       "< 1 year     19684\n",
       "3 years      19337\n",
       "5 years      16759\n",
       "1 year       15670\n",
       "4 years      15138\n",
       "6 years      13654\n",
       "7 years      13073\n",
       "8 years      11417\n",
       "9 years       9261\n",
       "Name: count, dtype: int64"
      ]
     },
     "execution_count": 26,
     "metadata": {},
     "output_type": "execute_result"
    }
   ],
   "source": [
    "df[\"Years in current job\"].value_counts()"
   ]
  },
  {
   "cell_type": "code",
   "execution_count": 27,
   "id": "485b3b29-a974-4797-89a7-8588fff7ad47",
   "metadata": {},
   "outputs": [
    {
     "data": {
      "image/png": "[encoded data removed]",
      "text/plain": [
       "<Figure size 640x480 with 1 Axes>"
      ]
     },
     "metadata": {},
     "output_type": "display_data"
    }
   ],
   "source": [
    "plt.figure()\n",
    "plt.xticks(rotation=45)\n",
    "sns.countplot(df,x=\"Years in current job\");"
   ]
  },
  {
   "cell_type": "code",
   "execution_count": 28,
   "id": "691304ea-86cf-446e-a54f-4dcd4b00cef4",
   "metadata": {},
   "outputs": [],
   "source": [
    "df[\"Years in current job\"]=df[\"Years in current job\"].str.extract(\"(\\d+)\")"
   ]
  },
  {
   "cell_type": "code",
   "execution_count": 29,
   "id": "0b3255e6-3640-4625-9192-ae4be9e086b4",
   "metadata": {},
   "outputs": [
    {
     "data": {
      "text/plain": [
       "array(['10', '4', '6', '5', nan, '3', '2', '1', '7', '9', '8'],\n",
       "      dtype=object)"
      ]
     },
     "execution_count": 29,
     "metadata": {},
     "output_type": "execute_result"
    }
   ],
   "source": [
    "df[\"Years in current job\"].unique()"
   ]
  },
  {
   "cell_type": "code",
   "execution_count": 30,
   "id": "dba55181-2a7c-4615-8c6c-2f72301fa012",
   "metadata": {},
   "outputs": [],
   "source": [
    "df[\"Years in current job\"].fillna(\"0\",inplace=True)"
   ]
  },
  {
   "cell_type": "code",
   "execution_count": 31,
   "id": "951e3c56-5ae2-4235-b9c2-8bbb3ee72605",
   "metadata": {},
   "outputs": [
    {
     "data": {
      "text/plain": [
       "Years in current job\n",
       "10    73965\n",
       "1     35354\n",
       "2     21972\n",
       "3     19337\n",
       "5     16759\n",
       "4     15138\n",
       "6     13654\n",
       "7     13073\n",
       "8     11417\n",
       "0     10444\n",
       "9      9261\n",
       "Name: count, dtype: int64"
      ]
     },
     "execution_count": 31,
     "metadata": {},
     "output_type": "execute_result"
    }
   ],
   "source": [
    "df[\"Years in current job\"].value_counts()"
   ]
  },
  {
   "cell_type": "code",
   "execution_count": 32,
   "id": "33b7a614-982e-4867-bf5e-04b5a4b48b75",
   "metadata": {},
   "outputs": [],
   "source": [
    "df[\"Years in current job\"] = df[\"Years in current job\"].astype(int)"
   ]
  },
  {
   "cell_type": "code",
   "execution_count": 33,
   "id": "a7656d95-b965-40e4-ac58-5a41f4960320",
   "metadata": {},
   "outputs": [],
   "source": [
    "# Annual Income"
   ]
  },
  {
   "cell_type": "code",
   "execution_count": 34,
   "id": "7465af3f-23f7-458b-9962-b19ea61a8083",
   "metadata": {},
   "outputs": [
    {
     "data": {
      "text/plain": [
       "count    181028.00000\n",
       "mean      72400.27260\n",
       "std       56468.07626\n",
       "min           0.00000\n",
       "25%       44555.00000\n",
       "50%       61505.00000\n",
       "75%       87057.00000\n",
       "max     8713547.00000\n",
       "Name: Annual Income, dtype: float64"
      ]
     },
     "execution_count": 34,
     "metadata": {},
     "output_type": "execute_result"
    }
   ],
   "source": [
    "df[\"Annual Income\"].describe().T"
   ]
  },
  {
   "cell_type": "code",
   "execution_count": 35,
   "id": "4868fc27-761e-44c8-b964-75f95f8e15c5",
   "metadata": {},
   "outputs": [
    {
     "data": {
      "text/plain": [
       "<Axes: xlabel='Annual Income'>"
      ]
     },
     "execution_count": 35,
     "metadata": {},
     "output_type": "execute_result"
    },
    {
     "data": {
      "image/png": "[encoded data removed]",
      "text/plain": [
       "<Figure size 640x480 with 1 Axes>"
      ]
     },
     "metadata": {},
     "output_type": "display_data"
    }
   ],
   "source": [
    "sns.boxplot(x=df[\"Annual Income\"])"
   ]
  },
  {
   "cell_type": "code",
   "execution_count": 36,
   "id": "955e3e1f-3a9d-471d-9a67-fde197c58685",
   "metadata": {},
   "outputs": [
    {
     "data": {
      "image/png": "[encoded data removed]",
      "text/plain": [
       "<Figure size 640x480 with 1 Axes>"
      ]
     },
     "metadata": {},
     "output_type": "display_data"
    }
   ],
   "source": [
    "sns.histplot(data=df, x=\"Annual Income\", kde=True);"
   ]
  },
  {
   "cell_type": "code",
   "execution_count": 37,
   "id": "f6ee3ca6-d682-4a57-8ff8-9bafd3543312",
   "metadata": {},
   "outputs": [
    {
     "data": {
      "text/plain": [
       "Annual Income                  1.00000\n",
       "Current Credit Balance         0.30730\n",
       "Years of Credit History        0.15599\n",
       "Number of Open Accounts        0.14755\n",
       "Years in current job           0.09872\n",
       "Loan Status                    0.07035\n",
       "Months since last delinquent   0.05801\n",
       "Bankruptcies                   0.04732\n",
       "Tax Liens                      0.03846\n",
       "Current Loan Amount            0.02240\n",
       "Number of Credit Problems      0.01604\n",
       "Credit Score                   0.01470\n",
       "Name: Annual Income, dtype: float64"
      ]
     },
     "execution_count": 37,
     "metadata": {},
     "output_type": "execute_result"
    }
   ],
   "source": [
    "abs(df.corr(numeric_only=True)[\"Annual Income\"]).sort_values(ascending=False)"
   ]
  },
  {
   "cell_type": "code",
   "execution_count": 38,
   "id": "d369e425-eb07-47ef-b592-b784a89817f3",
   "metadata": {},
   "outputs": [],
   "source": [
    "\n",
    "df[\"Annual Income\"] = df[\"Annual Income\"].fillna(df.groupby(\"Current Credit Balance\")[\"Annual Income\"].transform(\"median\"))"
   ]
  },
  {
   "cell_type": "code",
   "execution_count": 39,
   "id": "7e114e4d-9758-4d26-8f29-24b0991378a2",
   "metadata": {},
   "outputs": [],
   "source": [
    "knn = KNNImputer()\n",
    "# The fit_transform method expects a 2D array, so we use double brackets to pass a DataFrame slice\n",
    "imputed_data = knn.fit_transform(df[['Annual Income']])\n",
    "\n",
    "# Since the output is a numpy array, we select the first column to replace the original \"Credit Score\" data\n",
    "df['Annual Income'] = imputed_data[:, 0]"
   ]
  },
  {
   "cell_type": "code",
   "execution_count": 40,
   "id": "81bb7b81-85cf-4156-ae0a-3df5834c0a95",
   "metadata": {},
   "outputs": [],
   "source": [
    "# Months since last delinquent"
   ]
  },
  {
   "cell_type": "code",
   "execution_count": 41,
   "id": "92b9feef-1f5b-48d4-85d9-2f9210fbb011",
   "metadata": {},
   "outputs": [
    {
     "data": {
      "text/plain": [
       "count   108947.00000\n",
       "mean        34.93919\n",
       "std         21.84412\n",
       "min          0.00000\n",
       "25%         16.00000\n",
       "50%         32.00000\n",
       "75%         51.00000\n",
       "max        176.00000\n",
       "Name: Months since last delinquent, dtype: float64"
      ]
     },
     "execution_count": 41,
     "metadata": {},
     "output_type": "execute_result"
    }
   ],
   "source": [
    "df[\"Months since last delinquent\"].describe().T"
   ]
  },
  {
   "cell_type": "code",
   "execution_count": 42,
   "id": "1a5f4d27-51a4-4145-a0de-7ce94d059eb0",
   "metadata": {},
   "outputs": [
    {
     "data": {
      "image/png": "[encoded data removed]",
      "text/plain": [
       "<Figure size 640x480 with 1 Axes>"
      ]
     },
     "metadata": {},
     "output_type": "display_data"
    }
   ],
   "source": [
    "sns.histplot(x=df[\"Months since last delinquent\"]);"
   ]
  },
  {
   "cell_type": "code",
   "execution_count": 43,
   "id": "724220f8-de6b-4c4e-87a1-cd136ffb9281",
   "metadata": {},
   "outputs": [
    {
     "data": {
      "text/plain": [
       "Current Loan Amount            0.00255\n",
       "Tax Liens                      0.00291\n",
       "Years in current job           0.01355\n",
       "Loan Status                    0.02210\n",
       "Current Credit Balance         0.02442\n",
       "Number of Open Accounts        0.03532\n",
       "Years of Credit History        0.03875\n",
       "Credit Score                   0.04161\n",
       "Annual Income                  0.05016\n",
       "Number of Credit Problems      0.08995\n",
       "Bankruptcies                   0.11392\n",
       "Months since last delinquent   1.00000\n",
       "Name: Months since last delinquent, dtype: float64"
      ]
     },
     "execution_count": 43,
     "metadata": {},
     "output_type": "execute_result"
    }
   ],
   "source": [
    "abs(df.corr(numeric_only=True)[\"Months since last delinquent\"]).sort_values(ascending=True)"
   ]
  },
  {
   "cell_type": "code",
   "execution_count": 44,
   "id": "c29f620e-7098-4fa9-a1fa-a3158865ec17",
   "metadata": {},
   "outputs": [],
   "source": [
    "df[\"Months since last delinquent\"].fillna(df[\"Months since last delinquent\"].median(), inplace=True)\n"
   ]
  },
  {
   "cell_type": "code",
   "execution_count": 45,
   "id": "e0caa8de-27a0-4e1b-8f9a-778fab926967",
   "metadata": {},
   "outputs": [],
   "source": [
    "# Bankruptcies"
   ]
  },
  {
   "cell_type": "code",
   "execution_count": 46,
   "id": "25b5fed5-142f-45e1-9dc3-6e7d51063799",
   "metadata": {},
   "outputs": [
    {
     "data": {
      "text/plain": [
       "Bankruptcies\n",
       "0.00000    214858\n",
       "1.00000     23906\n",
       "2.00000       902\n",
       "3.00000       168\n",
       "4.00000        29\n",
       "5.00000        15\n",
       "6.00000         3\n",
       "7.00000         1\n",
       "Name: count, dtype: int64"
      ]
     },
     "execution_count": 46,
     "metadata": {},
     "output_type": "execute_result"
    }
   ],
   "source": [
    "df[\"Bankruptcies\"].value_counts()"
   ]
  },
  {
   "cell_type": "code",
   "execution_count": 47,
   "id": "c8303a1b-14f2-49b6-b444-5d11cc9ce5af",
   "metadata": {},
   "outputs": [],
   "source": [
    "df[\"Bankruptcies\"].fillna(\"0\",inplace=True)"
   ]
  },
  {
   "cell_type": "code",
   "execution_count": 48,
   "id": "0ddad8f3-0ced-4956-97af-11768e40391d",
   "metadata": {},
   "outputs": [],
   "source": [
    "df[\"Bankruptcies\"] = df[\"Bankruptcies\"].astype(int)"
   ]
  },
  {
   "cell_type": "code",
   "execution_count": 49,
   "id": "a57f8bf0-d336-44e2-a3ab-7597792984d3",
   "metadata": {},
   "outputs": [],
   "source": [
    "# Tax Liens "
   ]
  },
  {
   "cell_type": "code",
   "execution_count": 50,
   "id": "ffdb5339-9f2a-4a4c-b8ae-a2ece4bcebcc",
   "metadata": {},
   "outputs": [
    {
     "data": {
      "image/png": "[encoded data removed]",
      "text/plain": [
       "<Figure size 640x480 with 1 Axes>"
      ]
     },
     "metadata": {},
     "output_type": "display_data"
    }
   ],
   "source": [
    "sns.countplot(x=df[\"Tax Liens\"]);"
   ]
  },
  {
   "cell_type": "code",
   "execution_count": 51,
   "id": "eab70dcc-9a7d-4ba2-9eac-24d4f37f481e",
   "metadata": {},
   "outputs": [],
   "source": [
    "df[\"Tax Liens\"].fillna(\"0\", inplace=True)"
   ]
  },
  {
   "cell_type": "code",
   "execution_count": 52,
   "id": "95850281-60e1-4370-83e0-7786f1616292",
   "metadata": {},
   "outputs": [],
   "source": [
    "df[\"Tax Liens\"] = df[\"Tax Liens\"].astype(int)"
   ]
  },
  {
   "cell_type": "code",
   "execution_count": 53,
   "id": "cb32304f-8657-4c50-b5d7-df38d580d342",
   "metadata": {},
   "outputs": [],
   "source": [
    "# Current Loan Amount"
   ]
  },
  {
   "cell_type": "code",
   "execution_count": 54,
   "id": "ae054455-1171-4374-a527-65e58702843a",
   "metadata": {},
   "outputs": [
    {
     "data": {
      "text/plain": [
       "count     240374.00000\n",
       "mean    14659881.83001\n",
       "std     35353839.16931\n",
       "min          505.00000\n",
       "25%         8300.25000\n",
       "50%        14394.00000\n",
       "75%        24566.00000\n",
       "max     99999999.00000\n",
       "Name: Current Loan Amount, dtype: float64"
      ]
     },
     "execution_count": 54,
     "metadata": {},
     "output_type": "execute_result"
    }
   ],
   "source": [
    "df[\"Current Loan Amount\"].describe().T"
   ]
  },
  {
   "cell_type": "code",
   "execution_count": 55,
   "id": "595aac27-047f-4c56-8cda-f70c0e1b421c",
   "metadata": {},
   "outputs": [],
   "source": [
    "df[\"Current Loan Amount\"] = df[\"Current Loan Amount\"].replace(99999999,0)"
   ]
  },
  {
   "cell_type": "code",
   "execution_count": 56,
   "id": "498c2922-2e39-4dff-a726-af299a38b073",
   "metadata": {},
   "outputs": [],
   "source": [
    "# Purpose"
   ]
  },
  {
   "cell_type": "code",
   "execution_count": 57,
   "id": "5cb3ee97-ec60-4514-9d7a-bc1a286aa081",
   "metadata": {},
   "outputs": [
    {
     "data": {
      "text/plain": [
       "Purpose\n",
       "Debt Consolidation      190656\n",
       "Home Improvements        14106\n",
       "other                    13221\n",
       "Other                     9115\n",
       "Business Loan             4275\n",
       "Buy a Car                 3150\n",
       "Medical Bills             2687\n",
       "Take a Trip               1467\n",
       "Buy House                 1445\n",
       "Educational Expenses       252\n",
       "Name: count, dtype: int64"
      ]
     },
     "execution_count": 57,
     "metadata": {},
     "output_type": "execute_result"
    }
   ],
   "source": [
    "df[\"Purpose\"].value_counts()"
   ]
  },
  {
   "cell_type": "code",
   "execution_count": 58,
   "id": "6c33f220-9dd2-493c-9b25-c986a164265c",
   "metadata": {},
   "outputs": [],
   "source": [
    "df.loc[df[\"Purpose\"] == \"Other\",\"Purpose\"] = \"other\""
   ]
  },
  {
   "cell_type": "code",
   "execution_count": 59,
   "id": "99dd562b-4307-4545-86eb-506c5f8cbac6",
   "metadata": {},
   "outputs": [
    {
     "data": {
      "text/plain": [
       "Purpose\n",
       "Debt Consolidation      190656\n",
       "other                    22336\n",
       "Home Improvements        14106\n",
       "Business Loan             4275\n",
       "Buy a Car                 3150\n",
       "Medical Bills             2687\n",
       "Take a Trip               1467\n",
       "Buy House                 1445\n",
       "Educational Expenses       252\n",
       "Name: count, dtype: int64"
      ]
     },
     "execution_count": 59,
     "metadata": {},
     "output_type": "execute_result"
    }
   ],
   "source": [
    "df[\"Purpose\"].value_counts()"
   ]
  },
  {
   "cell_type": "code",
   "execution_count": 68,
   "id": "bfbbb8db-d802-4766-835e-00269c4cbc14",
   "metadata": {},
   "outputs": [],
   "source": [
    "# Monthly Debt\n",
    "df[\"Monthly Debt\"] = df[\"Monthly Debt\"].str.replace(\"$\",\"\").str.replace(\",\",\"\")"
   ]
  },
  {
   "cell_type": "code",
   "execution_count": 69,
   "id": "3af7be5a-53df-48f7-9b6b-314674dcfebb",
   "metadata": {},
   "outputs": [],
   "source": [
    "df[\"Monthly Debt\"] = df[\"Monthly Debt\"].astype(float)"
   ]
  },
  {
   "cell_type": "code",
   "execution_count": null,
   "id": "a6a56421-bc16-4ec6-9e67-f49c9781f3b9",
   "metadata": {},
   "outputs": [],
   "source": [
    "# Maximum Open Credit"
   ]
  },
  {
   "cell_type": "code",
   "execution_count": 81,
   "id": "857c5b27-8091-4a61-9c79-aeb24484dc7e",
   "metadata": {},
   "outputs": [
    {
     "data": {
      "text/html": [
       "<div>\n",
       "<style scoped>\n",
       "    .dataframe tbody tr th:only-of-type {\n",
       "        vertical-align: middle;\n",
       "    }\n",
       "\n",
       "    .dataframe tbody tr th {\n",
       "        vertical-align: top;\n",
       "    }\n",
       "\n",
       "    .dataframe thead th {\n",
       "        text-align: right;\n",
       "    }\n",
       "</style>\n",
       "<table border=\"1\" class=\"dataframe\">\n",
       "  <thead>\n",
       "    <tr style=\"text-align: right;\">\n",
       "      <th></th>\n",
       "      <th>Loan Status</th>\n",
       "      <th>Current Loan Amount</th>\n",
       "      <th>Term</th>\n",
       "      <th>Credit Score</th>\n",
       "      <th>Years in current job</th>\n",
       "      <th>Home Ownership</th>\n",
       "      <th>Annual Income</th>\n",
       "      <th>Purpose</th>\n",
       "      <th>Monthly Debt</th>\n",
       "      <th>Years of Credit History</th>\n",
       "      <th>Months since last delinquent</th>\n",
       "      <th>Number of Open Accounts</th>\n",
       "      <th>Number of Credit Problems</th>\n",
       "      <th>Current Credit Balance</th>\n",
       "      <th>Maximum Open Credit</th>\n",
       "      <th>Bankruptcies</th>\n",
       "      <th>Tax Liens</th>\n",
       "    </tr>\n",
       "  </thead>\n",
       "  <tbody>\n",
       "    <tr>\n",
       "      <th>184662</th>\n",
       "      <td>0</td>\n",
       "      <td>1470</td>\n",
       "      <td>Short Term</td>\n",
       "      <td>710.28179</td>\n",
       "      <td>2</td>\n",
       "      <td>Rent</td>\n",
       "      <td>57498.50000</td>\n",
       "      <td>Debt Consolidation</td>\n",
       "      <td>506.34000</td>\n",
       "      <td>15.30000</td>\n",
       "      <td>26.00000</td>\n",
       "      <td>3</td>\n",
       "      <td>0</td>\n",
       "      <td>0</td>\n",
       "      <td>#VALUE!</td>\n",
       "      <td>0</td>\n",
       "      <td>0</td>\n",
       "    </tr>\n",
       "    <tr>\n",
       "      <th>184663</th>\n",
       "      <td>0</td>\n",
       "      <td>1470</td>\n",
       "      <td>Short Term</td>\n",
       "      <td>725.00000</td>\n",
       "      <td>2</td>\n",
       "      <td>Rent</td>\n",
       "      <td>39200.00000</td>\n",
       "      <td>Debt Consolidation</td>\n",
       "      <td>506.34000</td>\n",
       "      <td>15.30000</td>\n",
       "      <td>26.00000</td>\n",
       "      <td>3</td>\n",
       "      <td>0</td>\n",
       "      <td>0</td>\n",
       "      <td>#VALUE!</td>\n",
       "      <td>0</td>\n",
       "      <td>0</td>\n",
       "    </tr>\n",
       "    <tr>\n",
       "      <th>187512</th>\n",
       "      <td>0</td>\n",
       "      <td>23897</td>\n",
       "      <td>Long Term</td>\n",
       "      <td>697.00000</td>\n",
       "      <td>7</td>\n",
       "      <td>Home Mortgage</td>\n",
       "      <td>49785.00000</td>\n",
       "      <td>Home Improvements</td>\n",
       "      <td>1306.86000</td>\n",
       "      <td>13.00000</td>\n",
       "      <td>32.00000</td>\n",
       "      <td>6</td>\n",
       "      <td>0</td>\n",
       "      <td>0</td>\n",
       "      <td>#VALUE!</td>\n",
       "      <td>0</td>\n",
       "      <td>0</td>\n",
       "    </tr>\n",
       "    <tr>\n",
       "      <th>187513</th>\n",
       "      <td>0</td>\n",
       "      <td>23897</td>\n",
       "      <td>Long Term</td>\n",
       "      <td>697.00000</td>\n",
       "      <td>7</td>\n",
       "      <td>Home Mortgage</td>\n",
       "      <td>49785.00000</td>\n",
       "      <td>Home Improvements</td>\n",
       "      <td>1306.86000</td>\n",
       "      <td>13.00000</td>\n",
       "      <td>32.00000</td>\n",
       "      <td>6</td>\n",
       "      <td>0</td>\n",
       "      <td>0</td>\n",
       "      <td>#VALUE!</td>\n",
       "      <td>0</td>\n",
       "      <td>0</td>\n",
       "    </tr>\n",
       "  </tbody>\n",
       "</table>\n",
       "</div>"
      ],
      "text/plain": [
       "        Loan Status  Current Loan Amount        Term  Credit Score  Years in current job Home Ownership  Annual Income             Purpose  Monthly Debt  Years of Credit History  Months since last delinquent  Number of Open Accounts  Number of Credit Problems  Current Credit Balance Maximum Open Credit  Bankruptcies  Tax Liens\n",
       "184662            0                 1470  Short Term     710.28179                     2           Rent    57498.50000  Debt Consolidation     506.34000                 15.30000                      26.00000                        3                          0                       0             #VALUE!             0          0\n",
       "184663            0                 1470  Short Term     725.00000                     2           Rent    39200.00000  Debt Consolidation     506.34000                 15.30000                      26.00000                        3                          0                       0             #VALUE!             0          0\n",
       "187512            0                23897   Long Term     697.00000                     7  Home Mortgage    49785.00000   Home Improvements    1306.86000                 13.00000                      32.00000                        6                          0                       0             #VALUE!             0          0\n",
       "187513            0                23897   Long Term     697.00000                     7  Home Mortgage    49785.00000   Home Improvements    1306.86000                 13.00000                      32.00000                        6                          0                       0             #VALUE!             0          0"
      ]
     },
     "execution_count": 81,
     "metadata": {},
     "output_type": "execute_result"
    }
   ],
   "source": [
    "df[df[\"Maximum Open Credit\"]==\"#VALUE!\"]"
   ]
  },
  {
   "cell_type": "code",
   "execution_count": 83,
   "id": "4bd3880a-f62e-42b7-b206-4c87273e2fb8",
   "metadata": {},
   "outputs": [],
   "source": [
    "df[\"Maximum Open Credit\"] = df[\"Maximum Open Credit\"].replace(\"#VALUE!\",0)"
   ]
  },
  {
   "cell_type": "code",
   "execution_count": 84,
   "id": "24d46dd9-df3d-4810-bcea-ae547add49d4",
   "metadata": {},
   "outputs": [],
   "source": [
    "df[\"Maximum Open Credit\"] = df[\"Maximum Open Credit\"].astype(int)"
   ]
  },
  {
   "cell_type": "code",
   "execution_count": 87,
   "id": "aff93e63-170b-4381-9b3f-aa4c6c586223",
   "metadata": {},
   "outputs": [],
   "source": [
    "df.to_pickle(\"loan_prediction_preprocessed.pkl\")"
   ]
  },
  {
   "cell_type": "code",
   "execution_count": 88,
   "id": "89f6d720-7fce-485d-82d2-79299869c2bc",
   "metadata": {},
   "outputs": [
    {
     "data": {
      "text/plain": [
       "Loan Status                    1.00000\n",
       "Credit Score                   0.29537\n",
       "Current Loan Amount            0.18992\n",
       "Annual Income                  0.05908\n",
       "Years of Credit History        0.03519\n",
       "Number of Open Accounts        0.02039\n",
       "Years in current job           0.01976\n",
       "Monthly Debt                   0.01518\n",
       "Months since last delinquent   0.01353\n",
       "Tax Liens                      0.01252\n",
       "Number of Credit Problems      0.00911\n",
       "Current Credit Balance         0.00899\n",
       "Maximum Open Credit            0.00708\n",
       "Bankruptcies                   0.00191\n",
       "Name: Loan Status, dtype: float64"
      ]
     },
     "execution_count": 88,
     "metadata": {},
     "output_type": "execute_result"
    }
   ],
   "source": [
    "abs(df.corr(numeric_only=True)[\"Loan Status\"]).sort_values(ascending=False)"
   ]
  },
  {
   "cell_type": "code",
   "execution_count": 190,
   "id": "4e3dbf34-dc1a-4570-86be-b763c4a03bfe",
   "metadata": {},
   "outputs": [],
   "source": [
    "df = pd.read_pickle(\"loan_prediction_preprocessed.pkl\")"
   ]
  },
  {
   "cell_type": "markdown",
   "id": "1b0b11dd-0ac8-4762-abf6-7a030e7280cb",
   "metadata": {},
   "source": [
    "## Outlier Analysis"
   ]
  },
  {
   "cell_type": "code",
   "execution_count": 191,
   "id": "ede12f38-5e5c-449c-8583-a55ebbfc939a",
   "metadata": {},
   "outputs": [
    {
     "name": "stdout",
     "output_type": "stream",
     "text": [
      "Current Loan Amount: 3 outliers\n",
      "Lower bound: -13842.5, Upper bound: 36489.5\n",
      "\n",
      "Credit Score: 10038 outliers\n",
      "Lower bound: 667.2044700931004, Upper bound: 782.0773179441397\n",
      "\n",
      "Years in current job: 0 outliers\n",
      "Lower bound: -10.0, Upper bound: 22.0\n",
      "\n",
      "Annual Income: 12860 outliers\n",
      "Lower bound: -7716.0, Upper bound: 135836.0\n",
      "\n",
      "Monthly Debt: 8036 outliers\n",
      "Lower bound: -551.3325000000001, Upper bound: 2332.5675\n",
      "\n",
      "Current Credit Balance: 12368 outliers\n",
      "Lower bound: -14069.0, Upper bound: 39347.0\n",
      "\n",
      "Maximum Open Credit: 13903 outliers\n",
      "Lower bound: -22502.0, Upper bound: 71746.0\n",
      "\n",
      "                   column  num_outliers  lower_bound  upper_bound\n",
      "0     Current Loan Amount             3 -13842.50000  36489.50000\n",
      "1            Credit Score         10038    667.20447    782.07732\n",
      "2    Years in current job             0    -10.00000     22.00000\n",
      "3           Annual Income         12860  -7716.00000 135836.00000\n",
      "4            Monthly Debt          8036   -551.33250   2332.56750\n",
      "5  Current Credit Balance         12368 -14069.00000  39347.00000\n",
      "6     Maximum Open Credit         13903 -22502.00000  71746.00000\n"
     ]
    }
   ],
   "source": [
    "def analyze_outliers(df, columns):\n",
    "    outlier_summary = []\n",
    "    for column in columns:\n",
    "        Q1 = df[column].quantile(0.25)\n",
    "        Q3 = df[column].quantile(0.75)\n",
    "        IQR = Q3 - Q1\n",
    "        \n",
    "        lower_bound = Q1 - 1.5 * IQR\n",
    "        upper_bound = Q3 + 1.5 * IQR\n",
    "        \n",
    "        outliers = df[(df[column] < lower_bound) | (df[column] > upper_bound)]\n",
    "        num_outliers = outliers.shape[0]\n",
    "        \n",
    "        outlier_summary.append({\n",
    "            'column': column,\n",
    "            'num_outliers': num_outliers,\n",
    "            'lower_bound': lower_bound,\n",
    "            'upper_bound': upper_bound\n",
    "        })\n",
    "        \n",
    "        print(f\"{column}: {num_outliers} outliers\")\n",
    "        print(f\"Lower bound: {lower_bound}, Upper bound: {upper_bound}\\n\")\n",
    "    \n",
    "    return pd.DataFrame(outlier_summary)\n",
    "\n",
    "# Example usage\n",
    "# Assuming 'df' is your DataFrame and it contains columns named 'age' and 'salary'\n",
    "outlier_analysis = analyze_outliers(df, ['Current Loan Amount', 'Credit Score','Years in current job','Annual Income','Monthly Debt','Current Credit Balance','Maximum Open Credit'])\n",
    "\n",
    "print(outlier_analysis)"
   ]
  },
  {
   "cell_type": "code",
   "execution_count": 192,
   "id": "4a4491a0-9a7f-4d94-a451-f0cc7b8ee444",
   "metadata": {},
   "outputs": [
    {
     "data": {
      "text/plain": [
       "(240374, 17)"
      ]
     },
     "execution_count": 192,
     "metadata": {},
     "output_type": "execute_result"
    }
   ],
   "source": [
    "df.shape"
   ]
  },
  {
   "cell_type": "code",
   "execution_count": 193,
   "id": "29063f4f-dfa9-4ad3-9b48-76bf0cc8cce0",
   "metadata": {},
   "outputs": [
    {
     "name": "stdout",
     "output_type": "stream",
     "text": [
      "New DataFrame shape without outliers: (194348, 17)\n"
     ]
    }
   ],
   "source": [
    "def drop_outliers(df, columns):\n",
    "    for column in columns:\n",
    "        Q1 = df[column].quantile(0.25)\n",
    "        Q3 = df[column].quantile(0.75)\n",
    "        IQR = Q3 - Q1\n",
    "        \n",
    "        lower_bound = Q1 - 1.5 * IQR\n",
    "        upper_bound = Q3 + 1.5 * IQR\n",
    "        \n",
    "        # Only keep rows in dataframe that do not contain any outliers\n",
    "        df = df[(df[column] >= lower_bound) & (df[column] <= upper_bound)]\n",
    "        \n",
    "    return df\n",
    "\n",
    "\n",
    "df = drop_outliers(df, ['Current Loan Amount', 'Credit Score','Years in current job','Annual Income','Monthly Debt','Current Credit Balance','Maximum Open Credit'])\n",
    "\n",
    "\n",
    "print(f\"New DataFrame shape without outliers: {df.shape}\")\n"
   ]
  },
  {
   "cell_type": "code",
   "execution_count": 194,
   "id": "93ba1741-b8c3-4fc4-9c23-7772097e742b",
   "metadata": {},
   "outputs": [
    {
     "name": "stdout",
     "output_type": "stream",
     "text": [
      "<class 'pandas.core.frame.DataFrame'>\n",
      "Index: 194348 entries, 0 to 256982\n",
      "Data columns (total 17 columns):\n",
      " #   Column                        Non-Null Count   Dtype  \n",
      "---  ------                        --------------   -----  \n",
      " 0   Loan Status                   194348 non-null  int64  \n",
      " 1   Current Loan Amount           194348 non-null  int64  \n",
      " 2   Term                          194348 non-null  object \n",
      " 3   Credit Score                  194348 non-null  float64\n",
      " 4   Years in current job          194348 non-null  int32  \n",
      " 5   Home Ownership                194348 non-null  object \n",
      " 6   Annual Income                 194348 non-null  float64\n",
      " 7   Purpose                       194348 non-null  object \n",
      " 8   Monthly Debt                  194348 non-null  float64\n",
      " 9   Years of Credit History       194348 non-null  float64\n",
      " 10  Months since last delinquent  194348 non-null  float64\n",
      " 11  Number of Open Accounts       194348 non-null  int64  \n",
      " 12  Number of Credit Problems     194348 non-null  int64  \n",
      " 13  Current Credit Balance        194348 non-null  int64  \n",
      " 14  Maximum Open Credit           194348 non-null  int32  \n",
      " 15  Bankruptcies                  194348 non-null  int32  \n",
      " 16  Tax Liens                     194348 non-null  int32  \n",
      "dtypes: float64(5), int32(4), int64(5), object(3)\n",
      "memory usage: 23.7+ MB\n"
     ]
    }
   ],
   "source": [
    "df.info()"
   ]
  },
  {
   "cell_type": "code",
   "execution_count": 195,
   "id": "16f2b271-918b-4b0c-902b-fbff2c6cc27e",
   "metadata": {},
   "outputs": [],
   "source": [
    "X = df.drop(\"Loan Status\", axis=1)\n",
    "y = df[[\"Loan Status\"]]"
   ]
  },
  {
   "cell_type": "code",
   "execution_count": 196,
   "id": "135e2c11-70f7-44b9-bb06-bb2e97233673",
   "metadata": {},
   "outputs": [
    {
     "data": {
      "text/html": [
       "<div>\n",
       "<style scoped>\n",
       "    .dataframe tbody tr th:only-of-type {\n",
       "        vertical-align: middle;\n",
       "    }\n",
       "\n",
       "    .dataframe tbody tr th {\n",
       "        vertical-align: top;\n",
       "    }\n",
       "\n",
       "    .dataframe thead th {\n",
       "        text-align: right;\n",
       "    }\n",
       "</style>\n",
       "<table border=\"1\" class=\"dataframe\">\n",
       "  <thead>\n",
       "    <tr style=\"text-align: right;\">\n",
       "      <th></th>\n",
       "      <th>Current Loan Amount</th>\n",
       "      <th>Credit Score</th>\n",
       "      <th>Years in current job</th>\n",
       "      <th>Annual Income</th>\n",
       "      <th>Monthly Debt</th>\n",
       "      <th>Years of Credit History</th>\n",
       "      <th>Months since last delinquent</th>\n",
       "      <th>Number of Open Accounts</th>\n",
       "      <th>Number of Credit Problems</th>\n",
       "      <th>Current Credit Balance</th>\n",
       "      <th>Maximum Open Credit</th>\n",
       "      <th>Bankruptcies</th>\n",
       "      <th>Tax Liens</th>\n",
       "      <th>Term_Short Term</th>\n",
       "      <th>Home Ownership_Home Mortgage</th>\n",
       "      <th>Home Ownership_Own Home</th>\n",
       "      <th>Home Ownership_Rent</th>\n",
       "      <th>Purpose_Buy House</th>\n",
       "      <th>Purpose_Buy a Car</th>\n",
       "      <th>Purpose_Debt Consolidation</th>\n",
       "      <th>Purpose_Educational Expenses</th>\n",
       "      <th>Purpose_Home Improvements</th>\n",
       "      <th>Purpose_Medical Bills</th>\n",
       "      <th>Purpose_Take a Trip</th>\n",
       "      <th>Purpose_other</th>\n",
       "    </tr>\n",
       "  </thead>\n",
       "  <tbody>\n",
       "    <tr>\n",
       "      <th>0</th>\n",
       "      <td>11520</td>\n",
       "      <td>741.00000</td>\n",
       "      <td>10</td>\n",
       "      <td>33694.00000</td>\n",
       "      <td>584.03000</td>\n",
       "      <td>12.30000</td>\n",
       "      <td>41.00000</td>\n",
       "      <td>10</td>\n",
       "      <td>0</td>\n",
       "      <td>6760</td>\n",
       "      <td>16056</td>\n",
       "      <td>0</td>\n",
       "      <td>0</td>\n",
       "      <td>True</td>\n",
       "      <td>True</td>\n",
       "      <td>False</td>\n",
       "      <td>False</td>\n",
       "      <td>False</td>\n",
       "      <td>False</td>\n",
       "      <td>True</td>\n",
       "      <td>False</td>\n",
       "      <td>False</td>\n",
       "      <td>False</td>\n",
       "      <td>False</td>\n",
       "      <td>False</td>\n",
       "    </tr>\n",
       "    <tr>\n",
       "      <th>1</th>\n",
       "      <td>3441</td>\n",
       "      <td>734.00000</td>\n",
       "      <td>4</td>\n",
       "      <td>42269.00000</td>\n",
       "      <td>1106.04000</td>\n",
       "      <td>26.30000</td>\n",
       "      <td>32.00000</td>\n",
       "      <td>17</td>\n",
       "      <td>0</td>\n",
       "      <td>6262</td>\n",
       "      <td>19149</td>\n",
       "      <td>0</td>\n",
       "      <td>0</td>\n",
       "      <td>True</td>\n",
       "      <td>True</td>\n",
       "      <td>False</td>\n",
       "      <td>False</td>\n",
       "      <td>False</td>\n",
       "      <td>False</td>\n",
       "      <td>False</td>\n",
       "      <td>False</td>\n",
       "      <td>False</td>\n",
       "      <td>False</td>\n",
       "      <td>False</td>\n",
       "      <td>True</td>\n",
       "    </tr>\n",
       "    <tr>\n",
       "      <th>2</th>\n",
       "      <td>21029</td>\n",
       "      <td>747.00000</td>\n",
       "      <td>10</td>\n",
       "      <td>90126.00000</td>\n",
       "      <td>1321.85000</td>\n",
       "      <td>28.80000</td>\n",
       "      <td>32.00000</td>\n",
       "      <td>5</td>\n",
       "      <td>0</td>\n",
       "      <td>20967</td>\n",
       "      <td>28335</td>\n",
       "      <td>0</td>\n",
       "      <td>0</td>\n",
       "      <td>True</td>\n",
       "      <td>True</td>\n",
       "      <td>False</td>\n",
       "      <td>False</td>\n",
       "      <td>False</td>\n",
       "      <td>False</td>\n",
       "      <td>True</td>\n",
       "      <td>False</td>\n",
       "      <td>False</td>\n",
       "      <td>False</td>\n",
       "      <td>False</td>\n",
       "      <td>False</td>\n",
       "    </tr>\n",
       "    <tr>\n",
       "      <th>3</th>\n",
       "      <td>18743</td>\n",
       "      <td>747.00000</td>\n",
       "      <td>10</td>\n",
       "      <td>38072.00000</td>\n",
       "      <td>751.92000</td>\n",
       "      <td>26.20000</td>\n",
       "      <td>32.00000</td>\n",
       "      <td>9</td>\n",
       "      <td>0</td>\n",
       "      <td>22529</td>\n",
       "      <td>43915</td>\n",
       "      <td>0</td>\n",
       "      <td>0</td>\n",
       "      <td>True</td>\n",
       "      <td>False</td>\n",
       "      <td>True</td>\n",
       "      <td>False</td>\n",
       "      <td>False</td>\n",
       "      <td>False</td>\n",
       "      <td>True</td>\n",
       "      <td>False</td>\n",
       "      <td>False</td>\n",
       "      <td>False</td>\n",
       "      <td>False</td>\n",
       "      <td>False</td>\n",
       "    </tr>\n",
       "    <tr>\n",
       "      <th>4</th>\n",
       "      <td>11731</td>\n",
       "      <td>746.00000</td>\n",
       "      <td>4</td>\n",
       "      <td>50025.00000</td>\n",
       "      <td>355.18000</td>\n",
       "      <td>11.50000</td>\n",
       "      <td>32.00000</td>\n",
       "      <td>12</td>\n",
       "      <td>0</td>\n",
       "      <td>17391</td>\n",
       "      <td>37081</td>\n",
       "      <td>0</td>\n",
       "      <td>0</td>\n",
       "      <td>True</td>\n",
       "      <td>False</td>\n",
       "      <td>False</td>\n",
       "      <td>True</td>\n",
       "      <td>False</td>\n",
       "      <td>False</td>\n",
       "      <td>True</td>\n",
       "      <td>False</td>\n",
       "      <td>False</td>\n",
       "      <td>False</td>\n",
       "      <td>False</td>\n",
       "      <td>False</td>\n",
       "    </tr>\n",
       "  </tbody>\n",
       "</table>\n",
       "</div>"
      ],
      "text/plain": [
       "   Current Loan Amount  Credit Score  Years in current job  Annual Income  Monthly Debt  Years of Credit History  Months since last delinquent  Number of Open Accounts  Number of Credit Problems  Current Credit Balance  Maximum Open Credit  Bankruptcies  Tax Liens  Term_Short Term  Home Ownership_Home Mortgage  Home Ownership_Own Home  Home Ownership_Rent  Purpose_Buy House  Purpose_Buy a Car  Purpose_Debt Consolidation  Purpose_Educational Expenses  Purpose_Home Improvements  Purpose_Medical Bills  Purpose_Take a Trip  Purpose_other\n",
       "0                11520     741.00000                    10    33694.00000     584.03000                 12.30000                      41.00000                       10                          0                    6760                16056             0          0             True                          True                    False                False              False              False                        True                         False                      False                  False                False          False\n",
       "1                 3441     734.00000                     4    42269.00000    1106.04000                 26.30000                      32.00000                       17                          0                    6262                19149             0          0             True                          True                    False                False              False              False                       False                         False                      False                  False                False           True\n",
       "2                21029     747.00000                    10    90126.00000    1321.85000                 28.80000                      32.00000                        5                          0                   20967                28335             0          0             True                          True                    False                False              False              False                        True                         False                      False                  False                False          False\n",
       "3                18743     747.00000                    10    38072.00000     751.92000                 26.20000                      32.00000                        9                          0                   22529                43915             0          0             True                         False                     True                False              False              False                        True                         False                      False                  False                False          False\n",
       "4                11731     746.00000                     4    50025.00000     355.18000                 11.50000                      32.00000                       12                          0                   17391                37081             0          0             True                         False                    False                 True              False              False                        True                         False                      False                  False                False          False"
      ]
     },
     "execution_count": 196,
     "metadata": {},
     "output_type": "execute_result"
    }
   ],
   "source": [
    "X = pd.get_dummies(X, drop_first=True)\n",
    "X.head()"
   ]
  },
  {
   "cell_type": "markdown",
   "id": "66556e0a-2699-4664-97da-aefa553eb2bd",
   "metadata": {},
   "source": [
    "## Modelling"
   ]
  },
  {
   "cell_type": "code",
   "execution_count": 92,
   "id": "533b62e6-2689-4efb-bc4a-371db05ddbbe",
   "metadata": {},
   "outputs": [
    {
     "data": {
      "text/html": [
       "<style type=\"text/css\">\n",
       "#T_39057_row9_col1 {\n",
       "  background-color: lightgreen;\n",
       "}\n",
       "</style>\n",
       "<table id=\"T_39057\">\n",
       "  <thead>\n",
       "    <tr>\n",
       "      <th class=\"blank level0\" >&nbsp;</th>\n",
       "      <th id=\"T_39057_level0_col0\" class=\"col_heading level0 col0\" >Description</th>\n",
       "      <th id=\"T_39057_level0_col1\" class=\"col_heading level0 col1\" >Value</th>\n",
       "    </tr>\n",
       "  </thead>\n",
       "  <tbody>\n",
       "    <tr>\n",
       "      <th id=\"T_39057_level0_row0\" class=\"row_heading level0 row0\" >0</th>\n",
       "      <td id=\"T_39057_row0_col0\" class=\"data row0 col0\" >Session id</td>\n",
       "      <td id=\"T_39057_row0_col1\" class=\"data row0 col1\" >3005</td>\n",
       "    </tr>\n",
       "    <tr>\n",
       "      <th id=\"T_39057_level0_row1\" class=\"row_heading level0 row1\" >1</th>\n",
       "      <td id=\"T_39057_row1_col0\" class=\"data row1 col0\" >Target</td>\n",
       "      <td id=\"T_39057_row1_col1\" class=\"data row1 col1\" >Loan Status</td>\n",
       "    </tr>\n",
       "    <tr>\n",
       "      <th id=\"T_39057_level0_row2\" class=\"row_heading level0 row2\" >2</th>\n",
       "      <td id=\"T_39057_row2_col0\" class=\"data row2 col0\" >Target type</td>\n",
       "      <td id=\"T_39057_row2_col1\" class=\"data row2 col1\" >Binary</td>\n",
       "    </tr>\n",
       "    <tr>\n",
       "      <th id=\"T_39057_level0_row3\" class=\"row_heading level0 row3\" >3</th>\n",
       "      <td id=\"T_39057_row3_col0\" class=\"data row3 col0\" >Original data shape</td>\n",
       "      <td id=\"T_39057_row3_col1\" class=\"data row3 col1\" >(240374, 17)</td>\n",
       "    </tr>\n",
       "    <tr>\n",
       "      <th id=\"T_39057_level0_row4\" class=\"row_heading level0 row4\" >4</th>\n",
       "      <td id=\"T_39057_row4_col0\" class=\"data row4 col0\" >Transformed data shape</td>\n",
       "      <td id=\"T_39057_row4_col1\" class=\"data row4 col1\" >(240374, 28)</td>\n",
       "    </tr>\n",
       "    <tr>\n",
       "      <th id=\"T_39057_level0_row5\" class=\"row_heading level0 row5\" >5</th>\n",
       "      <td id=\"T_39057_row5_col0\" class=\"data row5 col0\" >Transformed train set shape</td>\n",
       "      <td id=\"T_39057_row5_col1\" class=\"data row5 col1\" >(168261, 28)</td>\n",
       "    </tr>\n",
       "    <tr>\n",
       "      <th id=\"T_39057_level0_row6\" class=\"row_heading level0 row6\" >6</th>\n",
       "      <td id=\"T_39057_row6_col0\" class=\"data row6 col0\" >Transformed test set shape</td>\n",
       "      <td id=\"T_39057_row6_col1\" class=\"data row6 col1\" >(72113, 28)</td>\n",
       "    </tr>\n",
       "    <tr>\n",
       "      <th id=\"T_39057_level0_row7\" class=\"row_heading level0 row7\" >7</th>\n",
       "      <td id=\"T_39057_row7_col0\" class=\"data row7 col0\" >Numeric features</td>\n",
       "      <td id=\"T_39057_row7_col1\" class=\"data row7 col1\" >13</td>\n",
       "    </tr>\n",
       "    <tr>\n",
       "      <th id=\"T_39057_level0_row8\" class=\"row_heading level0 row8\" >8</th>\n",
       "      <td id=\"T_39057_row8_col0\" class=\"data row8 col0\" >Categorical features</td>\n",
       "      <td id=\"T_39057_row8_col1\" class=\"data row8 col1\" >3</td>\n",
       "    </tr>\n",
       "    <tr>\n",
       "      <th id=\"T_39057_level0_row9\" class=\"row_heading level0 row9\" >9</th>\n",
       "      <td id=\"T_39057_row9_col0\" class=\"data row9 col0\" >Preprocess</td>\n",
       "      <td id=\"T_39057_row9_col1\" class=\"data row9 col1\" >True</td>\n",
       "    </tr>\n",
       "    <tr>\n",
       "      <th id=\"T_39057_level0_row10\" class=\"row_heading level0 row10\" >10</th>\n",
       "      <td id=\"T_39057_row10_col0\" class=\"data row10 col0\" >Imputation type</td>\n",
       "      <td id=\"T_39057_row10_col1\" class=\"data row10 col1\" >simple</td>\n",
       "    </tr>\n",
       "    <tr>\n",
       "      <th id=\"T_39057_level0_row11\" class=\"row_heading level0 row11\" >11</th>\n",
       "      <td id=\"T_39057_row11_col0\" class=\"data row11 col0\" >Numeric imputation</td>\n",
       "      <td id=\"T_39057_row11_col1\" class=\"data row11 col1\" >mean</td>\n",
       "    </tr>\n",
       "    <tr>\n",
       "      <th id=\"T_39057_level0_row12\" class=\"row_heading level0 row12\" >12</th>\n",
       "      <td id=\"T_39057_row12_col0\" class=\"data row12 col0\" >Categorical imputation</td>\n",
       "      <td id=\"T_39057_row12_col1\" class=\"data row12 col1\" >mode</td>\n",
       "    </tr>\n",
       "    <tr>\n",
       "      <th id=\"T_39057_level0_row13\" class=\"row_heading level0 row13\" >13</th>\n",
       "      <td id=\"T_39057_row13_col0\" class=\"data row13 col0\" >Maximum one-hot encoding</td>\n",
       "      <td id=\"T_39057_row13_col1\" class=\"data row13 col1\" >25</td>\n",
       "    </tr>\n",
       "    <tr>\n",
       "      <th id=\"T_39057_level0_row14\" class=\"row_heading level0 row14\" >14</th>\n",
       "      <td id=\"T_39057_row14_col0\" class=\"data row14 col0\" >Encoding method</td>\n",
       "      <td id=\"T_39057_row14_col1\" class=\"data row14 col1\" >None</td>\n",
       "    </tr>\n",
       "    <tr>\n",
       "      <th id=\"T_39057_level0_row15\" class=\"row_heading level0 row15\" >15</th>\n",
       "      <td id=\"T_39057_row15_col0\" class=\"data row15 col0\" >Fold Generator</td>\n",
       "      <td id=\"T_39057_row15_col1\" class=\"data row15 col1\" >StratifiedKFold</td>\n",
       "    </tr>\n",
       "    <tr>\n",
       "      <th id=\"T_39057_level0_row16\" class=\"row_heading level0 row16\" >16</th>\n",
       "      <td id=\"T_39057_row16_col0\" class=\"data row16 col0\" >Fold Number</td>\n",
       "      <td id=\"T_39057_row16_col1\" class=\"data row16 col1\" >10</td>\n",
       "    </tr>\n",
       "    <tr>\n",
       "      <th id=\"T_39057_level0_row17\" class=\"row_heading level0 row17\" >17</th>\n",
       "      <td id=\"T_39057_row17_col0\" class=\"data row17 col0\" >CPU Jobs</td>\n",
       "      <td id=\"T_39057_row17_col1\" class=\"data row17 col1\" >-1</td>\n",
       "    </tr>\n",
       "    <tr>\n",
       "      <th id=\"T_39057_level0_row18\" class=\"row_heading level0 row18\" >18</th>\n",
       "      <td id=\"T_39057_row18_col0\" class=\"data row18 col0\" >Use GPU</td>\n",
       "      <td id=\"T_39057_row18_col1\" class=\"data row18 col1\" >False</td>\n",
       "    </tr>\n",
       "    <tr>\n",
       "      <th id=\"T_39057_level0_row19\" class=\"row_heading level0 row19\" >19</th>\n",
       "      <td id=\"T_39057_row19_col0\" class=\"data row19 col0\" >Log Experiment</td>\n",
       "      <td id=\"T_39057_row19_col1\" class=\"data row19 col1\" >False</td>\n",
       "    </tr>\n",
       "    <tr>\n",
       "      <th id=\"T_39057_level0_row20\" class=\"row_heading level0 row20\" >20</th>\n",
       "      <td id=\"T_39057_row20_col0\" class=\"data row20 col0\" >Experiment Name</td>\n",
       "      <td id=\"T_39057_row20_col1\" class=\"data row20 col1\" >clf-default-name</td>\n",
       "    </tr>\n",
       "    <tr>\n",
       "      <th id=\"T_39057_level0_row21\" class=\"row_heading level0 row21\" >21</th>\n",
       "      <td id=\"T_39057_row21_col0\" class=\"data row21 col0\" >USI</td>\n",
       "      <td id=\"T_39057_row21_col1\" class=\"data row21 col1\" >efc3</td>\n",
       "    </tr>\n",
       "  </tbody>\n",
       "</table>\n"
      ],
      "text/plain": [
       "<pandas.io.formats.style.Styler at 0x2c987d70790>"
      ]
     },
     "metadata": {},
     "output_type": "display_data"
    },
    {
     "data": {
      "text/plain": [
       "<pycaret.classification.oop.ClassificationExperiment at 0x2c9888d0550>"
      ]
     },
     "execution_count": 92,
     "metadata": {},
     "output_type": "execute_result"
    }
   ],
   "source": [
    "setup(df, target=\"Loan Status\")"
   ]
  },
  {
   "cell_type": "code",
   "execution_count": 93,
   "id": "bc801866-68b4-42c1-872b-9cae7a3b93c1",
   "metadata": {},
   "outputs": [
    {
     "data": {
      "text/html": [],
      "text/plain": [
       "<IPython.core.display.HTML object>"
      ]
     },
     "metadata": {},
     "output_type": "display_data"
    },
    {
     "data": {
      "text/html": [
       "<style type=\"text/css\">\n",
       "#T_43e36 th {\n",
       "  text-align: left;\n",
       "}\n",
       "#T_43e36_row0_col0, #T_43e36_row0_col3, #T_43e36_row0_col4, #T_43e36_row1_col0, #T_43e36_row1_col1, #T_43e36_row1_col3, #T_43e36_row1_col4, #T_43e36_row1_col5, #T_43e36_row1_col6, #T_43e36_row1_col7, #T_43e36_row2_col0, #T_43e36_row2_col1, #T_43e36_row2_col3, #T_43e36_row2_col4, #T_43e36_row2_col5, #T_43e36_row2_col6, #T_43e36_row2_col7, #T_43e36_row3_col0, #T_43e36_row3_col1, #T_43e36_row3_col3, #T_43e36_row3_col4, #T_43e36_row3_col5, #T_43e36_row3_col6, #T_43e36_row3_col7, #T_43e36_row4_col0, #T_43e36_row4_col1, #T_43e36_row4_col3, #T_43e36_row4_col4, #T_43e36_row4_col5, #T_43e36_row4_col6, #T_43e36_row4_col7, #T_43e36_row5_col0, #T_43e36_row5_col1, #T_43e36_row5_col3, #T_43e36_row5_col4, #T_43e36_row5_col5, #T_43e36_row5_col6, #T_43e36_row5_col7, #T_43e36_row6_col0, #T_43e36_row6_col1, #T_43e36_row6_col3, #T_43e36_row6_col4, #T_43e36_row6_col5, #T_43e36_row6_col6, #T_43e36_row6_col7, #T_43e36_row7_col0, #T_43e36_row7_col1, #T_43e36_row7_col3, #T_43e36_row7_col4, #T_43e36_row7_col5, #T_43e36_row7_col6, #T_43e36_row7_col7, #T_43e36_row8_col0, #T_43e36_row8_col1, #T_43e36_row8_col3, #T_43e36_row8_col4, #T_43e36_row8_col5, #T_43e36_row8_col6, #T_43e36_row8_col7, #T_43e36_row9_col0, #T_43e36_row9_col1, #T_43e36_row9_col4, #T_43e36_row9_col5, #T_43e36_row9_col6, #T_43e36_row9_col7, #T_43e36_row10_col0, #T_43e36_row10_col1, #T_43e36_row10_col3, #T_43e36_row10_col4, #T_43e36_row10_col5, #T_43e36_row10_col6, #T_43e36_row10_col7, #T_43e36_row11_col0, #T_43e36_row11_col1, #T_43e36_row11_col3, #T_43e36_row11_col4, #T_43e36_row11_col5, #T_43e36_row11_col6, #T_43e36_row11_col7, #T_43e36_row12_col0, #T_43e36_row12_col1, #T_43e36_row12_col3, #T_43e36_row12_col4, #T_43e36_row12_col5, #T_43e36_row12_col6, #T_43e36_row12_col7, #T_43e36_row13_col0, #T_43e36_row13_col1, #T_43e36_row13_col3, #T_43e36_row13_col4, #T_43e36_row13_col5, #T_43e36_row13_col6, #T_43e36_row13_col7, #T_43e36_row14_col0, #T_43e36_row14_col1, #T_43e36_row14_col3, #T_43e36_row14_col5, #T_43e36_row14_col6, #T_43e36_row14_col7 {\n",
       "  text-align: left;\n",
       "}\n",
       "#T_43e36_row0_col1, #T_43e36_row0_col2, #T_43e36_row0_col5, #T_43e36_row0_col6, #T_43e36_row0_col7, #T_43e36_row1_col2, #T_43e36_row2_col2, #T_43e36_row3_col2, #T_43e36_row4_col2, #T_43e36_row5_col2, #T_43e36_row6_col2, #T_43e36_row7_col2, #T_43e36_row8_col2, #T_43e36_row9_col2, #T_43e36_row9_col3, #T_43e36_row10_col2, #T_43e36_row11_col2, #T_43e36_row12_col2, #T_43e36_row13_col2, #T_43e36_row14_col2, #T_43e36_row14_col4 {\n",
       "  text-align: left;\n",
       "  background-color: yellow;\n",
       "}\n",
       "#T_43e36_row0_col8, #T_43e36_row1_col8, #T_43e36_row2_col8, #T_43e36_row3_col8, #T_43e36_row4_col8, #T_43e36_row5_col8, #T_43e36_row6_col8, #T_43e36_row7_col8, #T_43e36_row9_col8, #T_43e36_row10_col8, #T_43e36_row11_col8, #T_43e36_row12_col8, #T_43e36_row13_col8, #T_43e36_row14_col8 {\n",
       "  text-align: left;\n",
       "  background-color: lightgrey;\n",
       "}\n",
       "#T_43e36_row8_col8 {\n",
       "  text-align: left;\n",
       "  background-color: yellow;\n",
       "  background-color: lightgrey;\n",
       "}\n",
       "</style>\n",
       "<table id=\"T_43e36\">\n",
       "  <thead>\n",
       "    <tr>\n",
       "      <th class=\"blank level0\" >&nbsp;</th>\n",
       "      <th id=\"T_43e36_level0_col0\" class=\"col_heading level0 col0\" >Model</th>\n",
       "      <th id=\"T_43e36_level0_col1\" class=\"col_heading level0 col1\" >Accuracy</th>\n",
       "      <th id=\"T_43e36_level0_col2\" class=\"col_heading level0 col2\" >AUC</th>\n",
       "      <th id=\"T_43e36_level0_col3\" class=\"col_heading level0 col3\" >Recall</th>\n",
       "      <th id=\"T_43e36_level0_col4\" class=\"col_heading level0 col4\" >Prec.</th>\n",
       "      <th id=\"T_43e36_level0_col5\" class=\"col_heading level0 col5\" >F1</th>\n",
       "      <th id=\"T_43e36_level0_col6\" class=\"col_heading level0 col6\" >Kappa</th>\n",
       "      <th id=\"T_43e36_level0_col7\" class=\"col_heading level0 col7\" >MCC</th>\n",
       "      <th id=\"T_43e36_level0_col8\" class=\"col_heading level0 col8\" >TT (Sec)</th>\n",
       "    </tr>\n",
       "  </thead>\n",
       "  <tbody>\n",
       "    <tr>\n",
       "      <th id=\"T_43e36_level0_row0\" class=\"row_heading level0 row0\" >et</th>\n",
       "      <td id=\"T_43e36_row0_col0\" class=\"data row0 col0\" >Extra Trees Classifier</td>\n",
       "      <td id=\"T_43e36_row0_col1\" class=\"data row0 col1\" >0.8571</td>\n",
       "      <td id=\"T_43e36_row0_col2\" class=\"data row0 col2\" >0.0000</td>\n",
       "      <td id=\"T_43e36_row0_col3\" class=\"data row0 col3\" >0.9447</td>\n",
       "      <td id=\"T_43e36_row0_col4\" class=\"data row0 col4\" >0.8711</td>\n",
       "      <td id=\"T_43e36_row0_col5\" class=\"data row0 col5\" >0.9064</td>\n",
       "      <td id=\"T_43e36_row0_col6\" class=\"data row0 col6\" >0.6057</td>\n",
       "      <td id=\"T_43e36_row0_col7\" class=\"data row0 col7\" >0.6148</td>\n",
       "      <td id=\"T_43e36_row0_col8\" class=\"data row0 col8\" >3.5900</td>\n",
       "    </tr>\n",
       "    <tr>\n",
       "      <th id=\"T_43e36_level0_row1\" class=\"row_heading level0 row1\" >rf</th>\n",
       "      <td id=\"T_43e36_row1_col0\" class=\"data row1 col0\" >Random Forest Classifier</td>\n",
       "      <td id=\"T_43e36_row1_col1\" class=\"data row1 col1\" >0.8550</td>\n",
       "      <td id=\"T_43e36_row1_col2\" class=\"data row1 col2\" >0.0000</td>\n",
       "      <td id=\"T_43e36_row1_col3\" class=\"data row1 col3\" >0.9454</td>\n",
       "      <td id=\"T_43e36_row1_col4\" class=\"data row1 col4\" >0.8685</td>\n",
       "      <td id=\"T_43e36_row1_col5\" class=\"data row1 col5\" >0.9053</td>\n",
       "      <td id=\"T_43e36_row1_col6\" class=\"data row1 col6\" >0.5986</td>\n",
       "      <td id=\"T_43e36_row1_col7\" class=\"data row1 col7\" >0.6085</td>\n",
       "      <td id=\"T_43e36_row1_col8\" class=\"data row1 col8\" >5.3210</td>\n",
       "    </tr>\n",
       "    <tr>\n",
       "      <th id=\"T_43e36_level0_row2\" class=\"row_heading level0 row2\" >xgboost</th>\n",
       "      <td id=\"T_43e36_row2_col0\" class=\"data row2 col0\" >Extreme Gradient Boosting</td>\n",
       "      <td id=\"T_43e36_row2_col1\" class=\"data row2 col1\" >0.8219</td>\n",
       "      <td id=\"T_43e36_row2_col2\" class=\"data row2 col2\" >0.0000</td>\n",
       "      <td id=\"T_43e36_row2_col3\" class=\"data row2 col3\" >0.9366</td>\n",
       "      <td id=\"T_43e36_row2_col4\" class=\"data row2 col4\" >0.8392</td>\n",
       "      <td id=\"T_43e36_row2_col5\" class=\"data row2 col5\" >0.8852</td>\n",
       "      <td id=\"T_43e36_row2_col6\" class=\"data row2 col6\" >0.4939</td>\n",
       "      <td id=\"T_43e36_row2_col7\" class=\"data row2 col7\" >0.5090</td>\n",
       "      <td id=\"T_43e36_row2_col8\" class=\"data row2 col8\" >0.6940</td>\n",
       "    </tr>\n",
       "    <tr>\n",
       "      <th id=\"T_43e36_level0_row3\" class=\"row_heading level0 row3\" >lightgbm</th>\n",
       "      <td id=\"T_43e36_row3_col0\" class=\"data row3 col0\" >Light Gradient Boosting Machine</td>\n",
       "      <td id=\"T_43e36_row3_col1\" class=\"data row3 col1\" >0.8216</td>\n",
       "      <td id=\"T_43e36_row3_col2\" class=\"data row3 col2\" >0.0000</td>\n",
       "      <td id=\"T_43e36_row3_col3\" class=\"data row3 col3\" >0.9434</td>\n",
       "      <td id=\"T_43e36_row3_col4\" class=\"data row3 col4\" >0.8347</td>\n",
       "      <td id=\"T_43e36_row3_col5\" class=\"data row3 col5\" >0.8857</td>\n",
       "      <td id=\"T_43e36_row3_col6\" class=\"data row3 col6\" >0.4857</td>\n",
       "      <td id=\"T_43e36_row3_col7\" class=\"data row3 col7\" >0.5053</td>\n",
       "      <td id=\"T_43e36_row3_col8\" class=\"data row3 col8\" >0.7620</td>\n",
       "    </tr>\n",
       "    <tr>\n",
       "      <th id=\"T_43e36_level0_row4\" class=\"row_heading level0 row4\" >gbc</th>\n",
       "      <td id=\"T_43e36_row4_col0\" class=\"data row4 col0\" >Gradient Boosting Classifier</td>\n",
       "      <td id=\"T_43e36_row4_col1\" class=\"data row4 col1\" >0.8195</td>\n",
       "      <td id=\"T_43e36_row4_col2\" class=\"data row4 col2\" >0.0000</td>\n",
       "      <td id=\"T_43e36_row4_col3\" class=\"data row4 col3\" >0.9470</td>\n",
       "      <td id=\"T_43e36_row4_col4\" class=\"data row4 col4\" >0.8305</td>\n",
       "      <td id=\"T_43e36_row4_col5\" class=\"data row4 col5\" >0.8849</td>\n",
       "      <td id=\"T_43e36_row4_col6\" class=\"data row4 col6\" >0.4745</td>\n",
       "      <td id=\"T_43e36_row4_col7\" class=\"data row4 col7\" >0.4973</td>\n",
       "      <td id=\"T_43e36_row4_col8\" class=\"data row4 col8\" >6.8470</td>\n",
       "    </tr>\n",
       "    <tr>\n",
       "      <th id=\"T_43e36_level0_row5\" class=\"row_heading level0 row5\" >ada</th>\n",
       "      <td id=\"T_43e36_row5_col0\" class=\"data row5 col0\" >Ada Boost Classifier</td>\n",
       "      <td id=\"T_43e36_row5_col1\" class=\"data row5 col1\" >0.8132</td>\n",
       "      <td id=\"T_43e36_row5_col2\" class=\"data row5 col2\" >0.0000</td>\n",
       "      <td id=\"T_43e36_row5_col3\" class=\"data row5 col3\" >0.9233</td>\n",
       "      <td id=\"T_43e36_row5_col4\" class=\"data row5 col4\" >0.8382</td>\n",
       "      <td id=\"T_43e36_row5_col5\" class=\"data row5 col5\" >0.8787</td>\n",
       "      <td id=\"T_43e36_row5_col6\" class=\"data row5 col6\" >0.4764</td>\n",
       "      <td id=\"T_43e36_row5_col7\" class=\"data row5 col7\" >0.4871</td>\n",
       "      <td id=\"T_43e36_row5_col8\" class=\"data row5 col8\" >1.8930</td>\n",
       "    </tr>\n",
       "    <tr>\n",
       "      <th id=\"T_43e36_level0_row6\" class=\"row_heading level0 row6\" >dt</th>\n",
       "      <td id=\"T_43e36_row6_col0\" class=\"data row6 col0\" >Decision Tree Classifier</td>\n",
       "      <td id=\"T_43e36_row6_col1\" class=\"data row6 col1\" >0.7987</td>\n",
       "      <td id=\"T_43e36_row6_col2\" class=\"data row6 col2\" >0.0000</td>\n",
       "      <td id=\"T_43e36_row6_col3\" class=\"data row6 col3\" >0.8469</td>\n",
       "      <td id=\"T_43e36_row6_col4\" class=\"data row6 col4\" >0.8745</td>\n",
       "      <td id=\"T_43e36_row6_col5\" class=\"data row6 col5\" >0.8605</td>\n",
       "      <td id=\"T_43e36_row6_col6\" class=\"data row6 col6\" >0.4994</td>\n",
       "      <td id=\"T_43e36_row6_col7\" class=\"data row6 col7\" >0.5002</td>\n",
       "      <td id=\"T_43e36_row6_col8\" class=\"data row6 col8\" >0.5040</td>\n",
       "    </tr>\n",
       "    <tr>\n",
       "      <th id=\"T_43e36_level0_row7\" class=\"row_heading level0 row7\" >lda</th>\n",
       "      <td id=\"T_43e36_row7_col0\" class=\"data row7 col0\" >Linear Discriminant Analysis</td>\n",
       "      <td id=\"T_43e36_row7_col1\" class=\"data row7 col1\" >0.7438</td>\n",
       "      <td id=\"T_43e36_row7_col2\" class=\"data row7 col2\" >0.0000</td>\n",
       "      <td id=\"T_43e36_row7_col3\" class=\"data row7 col3\" >0.9442</td>\n",
       "      <td id=\"T_43e36_row7_col4\" class=\"data row7 col4\" >0.7628</td>\n",
       "      <td id=\"T_43e36_row7_col5\" class=\"data row7 col5\" >0.8438</td>\n",
       "      <td id=\"T_43e36_row7_col6\" class=\"data row7 col6\" >0.1741</td>\n",
       "      <td id=\"T_43e36_row7_col7\" class=\"data row7 col7\" >0.2105</td>\n",
       "      <td id=\"T_43e36_row7_col8\" class=\"data row7 col8\" >0.3520</td>\n",
       "    </tr>\n",
       "    <tr>\n",
       "      <th id=\"T_43e36_level0_row8\" class=\"row_heading level0 row8\" >ridge</th>\n",
       "      <td id=\"T_43e36_row8_col0\" class=\"data row8 col0\" >Ridge Classifier</td>\n",
       "      <td id=\"T_43e36_row8_col1\" class=\"data row8 col1\" >0.7428</td>\n",
       "      <td id=\"T_43e36_row8_col2\" class=\"data row8 col2\" >0.0000</td>\n",
       "      <td id=\"T_43e36_row8_col3\" class=\"data row8 col3\" >0.9561</td>\n",
       "      <td id=\"T_43e36_row8_col4\" class=\"data row8 col4\" >0.7569</td>\n",
       "      <td id=\"T_43e36_row8_col5\" class=\"data row8 col5\" >0.8449</td>\n",
       "      <td id=\"T_43e36_row8_col6\" class=\"data row8 col6\" >0.1470</td>\n",
       "      <td id=\"T_43e36_row8_col7\" class=\"data row8 col7\" >0.1912</td>\n",
       "      <td id=\"T_43e36_row8_col8\" class=\"data row8 col8\" >0.2330</td>\n",
       "    </tr>\n",
       "    <tr>\n",
       "      <th id=\"T_43e36_level0_row9\" class=\"row_heading level0 row9\" >dummy</th>\n",
       "      <td id=\"T_43e36_row9_col0\" class=\"data row9 col0\" >Dummy Classifier</td>\n",
       "      <td id=\"T_43e36_row9_col1\" class=\"data row9 col1\" >0.7330</td>\n",
       "      <td id=\"T_43e36_row9_col2\" class=\"data row9 col2\" >0.0000</td>\n",
       "      <td id=\"T_43e36_row9_col3\" class=\"data row9 col3\" >1.0000</td>\n",
       "      <td id=\"T_43e36_row9_col4\" class=\"data row9 col4\" >0.7330</td>\n",
       "      <td id=\"T_43e36_row9_col5\" class=\"data row9 col5\" >0.8459</td>\n",
       "      <td id=\"T_43e36_row9_col6\" class=\"data row9 col6\" >0.0000</td>\n",
       "      <td id=\"T_43e36_row9_col7\" class=\"data row9 col7\" >0.0000</td>\n",
       "      <td id=\"T_43e36_row9_col8\" class=\"data row9 col8\" >0.2740</td>\n",
       "    </tr>\n",
       "    <tr>\n",
       "      <th id=\"T_43e36_level0_row10\" class=\"row_heading level0 row10\" >lr</th>\n",
       "      <td id=\"T_43e36_row10_col0\" class=\"data row10 col0\" >Logistic Regression</td>\n",
       "      <td id=\"T_43e36_row10_col1\" class=\"data row10 col1\" >0.7288</td>\n",
       "      <td id=\"T_43e36_row10_col2\" class=\"data row10 col2\" >0.0000</td>\n",
       "      <td id=\"T_43e36_row10_col3\" class=\"data row10 col3\" >0.9718</td>\n",
       "      <td id=\"T_43e36_row10_col4\" class=\"data row10 col4\" >0.7398</td>\n",
       "      <td id=\"T_43e36_row10_col5\" class=\"data row10 col5\" >0.8401</td>\n",
       "      <td id=\"T_43e36_row10_col6\" class=\"data row10 col6\" >0.0462</td>\n",
       "      <td id=\"T_43e36_row10_col7\" class=\"data row10 col7\" >0.0785</td>\n",
       "      <td id=\"T_43e36_row10_col8\" class=\"data row10 col8\" >3.6620</td>\n",
       "    </tr>\n",
       "    <tr>\n",
       "      <th id=\"T_43e36_level0_row11\" class=\"row_heading level0 row11\" >knn</th>\n",
       "      <td id=\"T_43e36_row11_col0\" class=\"data row11 col0\" >K Neighbors Classifier</td>\n",
       "      <td id=\"T_43e36_row11_col1\" class=\"data row11 col1\" >0.7039</td>\n",
       "      <td id=\"T_43e36_row11_col2\" class=\"data row11 col2\" >0.0000</td>\n",
       "      <td id=\"T_43e36_row11_col3\" class=\"data row11 col3\" >0.8512</td>\n",
       "      <td id=\"T_43e36_row11_col4\" class=\"data row11 col4\" >0.7694</td>\n",
       "      <td id=\"T_43e36_row11_col5\" class=\"data row11 col5\" >0.8082</td>\n",
       "      <td id=\"T_43e36_row11_col6\" class=\"data row11 col6\" >0.1662</td>\n",
       "      <td id=\"T_43e36_row11_col7\" class=\"data row11 col7\" >0.1703</td>\n",
       "      <td id=\"T_43e36_row11_col8\" class=\"data row11 col8\" >2.5790</td>\n",
       "    </tr>\n",
       "    <tr>\n",
       "      <th id=\"T_43e36_level0_row12\" class=\"row_heading level0 row12\" >svm</th>\n",
       "      <td id=\"T_43e36_row12_col0\" class=\"data row12 col0\" >SVM - Linear Kernel</td>\n",
       "      <td id=\"T_43e36_row12_col1\" class=\"data row12 col1\" >0.6152</td>\n",
       "      <td id=\"T_43e36_row12_col2\" class=\"data row12 col2\" >0.0000</td>\n",
       "      <td id=\"T_43e36_row12_col3\" class=\"data row12 col3\" >0.6923</td>\n",
       "      <td id=\"T_43e36_row12_col4\" class=\"data row12 col4\" >0.7968</td>\n",
       "      <td id=\"T_43e36_row12_col5\" class=\"data row12 col5\" >0.6694</td>\n",
       "      <td id=\"T_43e36_row12_col6\" class=\"data row12 col6\" >0.0861</td>\n",
       "      <td id=\"T_43e36_row12_col7\" class=\"data row12 col7\" >0.1138</td>\n",
       "      <td id=\"T_43e36_row12_col8\" class=\"data row12 col8\" >0.3120</td>\n",
       "    </tr>\n",
       "    <tr>\n",
       "      <th id=\"T_43e36_level0_row13\" class=\"row_heading level0 row13\" >nb</th>\n",
       "      <td id=\"T_43e36_row13_col0\" class=\"data row13 col0\" >Naive Bayes</td>\n",
       "      <td id=\"T_43e36_row13_col1\" class=\"data row13 col1\" >0.6063</td>\n",
       "      <td id=\"T_43e36_row13_col2\" class=\"data row13 col2\" >0.0000</td>\n",
       "      <td id=\"T_43e36_row13_col3\" class=\"data row13 col3\" >0.5635</td>\n",
       "      <td id=\"T_43e36_row13_col4\" class=\"data row13 col4\" >0.8531</td>\n",
       "      <td id=\"T_43e36_row13_col5\" class=\"data row13 col5\" >0.6716</td>\n",
       "      <td id=\"T_43e36_row13_col6\" class=\"data row13 col6\" >0.2248</td>\n",
       "      <td id=\"T_43e36_row13_col7\" class=\"data row13 col7\" >0.2613</td>\n",
       "      <td id=\"T_43e36_row13_col8\" class=\"data row13 col8\" >0.2420</td>\n",
       "    </tr>\n",
       "    <tr>\n",
       "      <th id=\"T_43e36_level0_row14\" class=\"row_heading level0 row14\" >qda</th>\n",
       "      <td id=\"T_43e36_row14_col0\" class=\"data row14 col0\" >Quadratic Discriminant Analysis</td>\n",
       "      <td id=\"T_43e36_row14_col1\" class=\"data row14 col1\" >0.3731</td>\n",
       "      <td id=\"T_43e36_row14_col2\" class=\"data row14 col2\" >0.0000</td>\n",
       "      <td id=\"T_43e36_row14_col3\" class=\"data row14 col3\" >0.1650</td>\n",
       "      <td id=\"T_43e36_row14_col4\" class=\"data row14 col4\" >0.8922</td>\n",
       "      <td id=\"T_43e36_row14_col5\" class=\"data row14 col5\" >0.2714</td>\n",
       "      <td id=\"T_43e36_row14_col6\" class=\"data row14 col6\" >0.0655</td>\n",
       "      <td id=\"T_43e36_row14_col7\" class=\"data row14 col7\" >0.1406</td>\n",
       "      <td id=\"T_43e36_row14_col8\" class=\"data row14 col8\" >0.3940</td>\n",
       "    </tr>\n",
       "  </tbody>\n",
       "</table>\n"
      ],
      "text/plain": [
       "<pandas.io.formats.style.Styler at 0x2c985c0ab90>"
      ]
     },
     "metadata": {},
     "output_type": "display_data"
    },
    {
     "data": {
      "text/html": [],
      "text/plain": [
       "<IPython.core.display.HTML object>"
      ]
     },
     "metadata": {},
     "output_type": "display_data"
    }
   ],
   "source": [
    "best_model = compare_models()"
   ]
  },
  {
   "cell_type": "code",
   "execution_count": 94,
   "id": "6ce41d51-3ee9-483e-a7a4-603ae72fbf59",
   "metadata": {},
   "outputs": [
    {
     "data": {
      "text/html": [],
      "text/plain": [
       "<IPython.core.display.HTML object>"
      ]
     },
     "metadata": {},
     "output_type": "display_data"
    },
    {
     "data": {
      "text/html": [
       "<style type=\"text/css\">\n",
       "#T_b73b9_row10_col0, #T_b73b9_row10_col1, #T_b73b9_row10_col2, #T_b73b9_row10_col3, #T_b73b9_row10_col4, #T_b73b9_row10_col5, #T_b73b9_row10_col6 {\n",
       "  background: yellow;\n",
       "}\n",
       "</style>\n",
       "<table id=\"T_b73b9\">\n",
       "  <thead>\n",
       "    <tr>\n",
       "      <th class=\"blank level0\" >&nbsp;</th>\n",
       "      <th id=\"T_b73b9_level0_col0\" class=\"col_heading level0 col0\" >Accuracy</th>\n",
       "      <th id=\"T_b73b9_level0_col1\" class=\"col_heading level0 col1\" >AUC</th>\n",
       "      <th id=\"T_b73b9_level0_col2\" class=\"col_heading level0 col2\" >Recall</th>\n",
       "      <th id=\"T_b73b9_level0_col3\" class=\"col_heading level0 col3\" >Prec.</th>\n",
       "      <th id=\"T_b73b9_level0_col4\" class=\"col_heading level0 col4\" >F1</th>\n",
       "      <th id=\"T_b73b9_level0_col5\" class=\"col_heading level0 col5\" >Kappa</th>\n",
       "      <th id=\"T_b73b9_level0_col6\" class=\"col_heading level0 col6\" >MCC</th>\n",
       "    </tr>\n",
       "    <tr>\n",
       "      <th class=\"index_name level0\" >Fold</th>\n",
       "      <th class=\"blank col0\" >&nbsp;</th>\n",
       "      <th class=\"blank col1\" >&nbsp;</th>\n",
       "      <th class=\"blank col2\" >&nbsp;</th>\n",
       "      <th class=\"blank col3\" >&nbsp;</th>\n",
       "      <th class=\"blank col4\" >&nbsp;</th>\n",
       "      <th class=\"blank col5\" >&nbsp;</th>\n",
       "      <th class=\"blank col6\" >&nbsp;</th>\n",
       "    </tr>\n",
       "  </thead>\n",
       "  <tbody>\n",
       "    <tr>\n",
       "      <th id=\"T_b73b9_level0_row0\" class=\"row_heading level0 row0\" >0</th>\n",
       "      <td id=\"T_b73b9_row0_col0\" class=\"data row0 col0\" >0.8606</td>\n",
       "      <td id=\"T_b73b9_row0_col1\" class=\"data row0 col1\" >0.0000</td>\n",
       "      <td id=\"T_b73b9_row0_col2\" class=\"data row0 col2\" >0.9456</td>\n",
       "      <td id=\"T_b73b9_row0_col3\" class=\"data row0 col3\" >0.8745</td>\n",
       "      <td id=\"T_b73b9_row0_col4\" class=\"data row0 col4\" >0.9087</td>\n",
       "      <td id=\"T_b73b9_row0_col5\" class=\"data row0 col5\" >0.6168</td>\n",
       "      <td id=\"T_b73b9_row0_col6\" class=\"data row0 col6\" >0.6252</td>\n",
       "    </tr>\n",
       "    <tr>\n",
       "      <th id=\"T_b73b9_level0_row1\" class=\"row_heading level0 row1\" >1</th>\n",
       "      <td id=\"T_b73b9_row1_col0\" class=\"data row1 col0\" >0.8539</td>\n",
       "      <td id=\"T_b73b9_row1_col1\" class=\"data row1 col1\" >0.0000</td>\n",
       "      <td id=\"T_b73b9_row1_col2\" class=\"data row1 col2\" >0.9441</td>\n",
       "      <td id=\"T_b73b9_row1_col3\" class=\"data row1 col3\" >0.8681</td>\n",
       "      <td id=\"T_b73b9_row1_col4\" class=\"data row1 col4\" >0.9045</td>\n",
       "      <td id=\"T_b73b9_row1_col5\" class=\"data row1 col5\" >0.5958</td>\n",
       "      <td id=\"T_b73b9_row1_col6\" class=\"data row1 col6\" >0.6054</td>\n",
       "    </tr>\n",
       "    <tr>\n",
       "      <th id=\"T_b73b9_level0_row2\" class=\"row_heading level0 row2\" >2</th>\n",
       "      <td id=\"T_b73b9_row2_col0\" class=\"data row2 col0\" >0.8572</td>\n",
       "      <td id=\"T_b73b9_row2_col1\" class=\"data row2 col1\" >0.0000</td>\n",
       "      <td id=\"T_b73b9_row2_col2\" class=\"data row2 col2\" >0.9476</td>\n",
       "      <td id=\"T_b73b9_row2_col3\" class=\"data row2 col3\" >0.8694</td>\n",
       "      <td id=\"T_b73b9_row2_col4\" class=\"data row2 col4\" >0.9068</td>\n",
       "      <td id=\"T_b73b9_row2_col5\" class=\"data row2 col5\" >0.6042</td>\n",
       "      <td id=\"T_b73b9_row2_col6\" class=\"data row2 col6\" >0.6146</td>\n",
       "    </tr>\n",
       "    <tr>\n",
       "      <th id=\"T_b73b9_level0_row3\" class=\"row_heading level0 row3\" >3</th>\n",
       "      <td id=\"T_b73b9_row3_col0\" class=\"data row3 col0\" >0.8557</td>\n",
       "      <td id=\"T_b73b9_row3_col1\" class=\"data row3 col1\" >0.0000</td>\n",
       "      <td id=\"T_b73b9_row3_col2\" class=\"data row3 col2\" >0.9446</td>\n",
       "      <td id=\"T_b73b9_row3_col3\" class=\"data row3 col3\" >0.8697</td>\n",
       "      <td id=\"T_b73b9_row3_col4\" class=\"data row3 col4\" >0.9056</td>\n",
       "      <td id=\"T_b73b9_row3_col5\" class=\"data row3 col5\" >0.6014</td>\n",
       "      <td id=\"T_b73b9_row3_col6\" class=\"data row3 col6\" >0.6108</td>\n",
       "    </tr>\n",
       "    <tr>\n",
       "      <th id=\"T_b73b9_level0_row4\" class=\"row_heading level0 row4\" >4</th>\n",
       "      <td id=\"T_b73b9_row4_col0\" class=\"data row4 col0\" >0.8562</td>\n",
       "      <td id=\"T_b73b9_row4_col1\" class=\"data row4 col1\" >0.0000</td>\n",
       "      <td id=\"T_b73b9_row4_col2\" class=\"data row4 col2\" >0.9449</td>\n",
       "      <td id=\"T_b73b9_row4_col3\" class=\"data row4 col3\" >0.8701</td>\n",
       "      <td id=\"T_b73b9_row4_col4\" class=\"data row4 col4\" >0.9059</td>\n",
       "      <td id=\"T_b73b9_row4_col5\" class=\"data row4 col5\" >0.6028</td>\n",
       "      <td id=\"T_b73b9_row4_col6\" class=\"data row4 col6\" >0.6121</td>\n",
       "    </tr>\n",
       "    <tr>\n",
       "      <th id=\"T_b73b9_level0_row5\" class=\"row_heading level0 row5\" >5</th>\n",
       "      <td id=\"T_b73b9_row5_col0\" class=\"data row5 col0\" >0.8607</td>\n",
       "      <td id=\"T_b73b9_row5_col1\" class=\"data row5 col1\" >0.0000</td>\n",
       "      <td id=\"T_b73b9_row5_col2\" class=\"data row5 col2\" >0.9446</td>\n",
       "      <td id=\"T_b73b9_row5_col3\" class=\"data row5 col3\" >0.8752</td>\n",
       "      <td id=\"T_b73b9_row5_col4\" class=\"data row5 col4\" >0.9086</td>\n",
       "      <td id=\"T_b73b9_row5_col5\" class=\"data row5 col5\" >0.6177</td>\n",
       "      <td id=\"T_b73b9_row5_col6\" class=\"data row5 col6\" >0.6257</td>\n",
       "    </tr>\n",
       "    <tr>\n",
       "      <th id=\"T_b73b9_level0_row6\" class=\"row_heading level0 row6\" >6</th>\n",
       "      <td id=\"T_b73b9_row6_col0\" class=\"data row6 col0\" >0.8533</td>\n",
       "      <td id=\"T_b73b9_row6_col1\" class=\"data row6 col1\" >0.0000</td>\n",
       "      <td id=\"T_b73b9_row6_col2\" class=\"data row6 col2\" >0.9430</td>\n",
       "      <td id=\"T_b73b9_row6_col3\" class=\"data row6 col3\" >0.8682</td>\n",
       "      <td id=\"T_b73b9_row6_col4\" class=\"data row6 col4\" >0.9041</td>\n",
       "      <td id=\"T_b73b9_row6_col5\" class=\"data row6 col5\" >0.5949</td>\n",
       "      <td id=\"T_b73b9_row6_col6\" class=\"data row6 col6\" >0.6041</td>\n",
       "    </tr>\n",
       "    <tr>\n",
       "      <th id=\"T_b73b9_level0_row7\" class=\"row_heading level0 row7\" >7</th>\n",
       "      <td id=\"T_b73b9_row7_col0\" class=\"data row7 col0\" >0.8596</td>\n",
       "      <td id=\"T_b73b9_row7_col1\" class=\"data row7 col1\" >0.0000</td>\n",
       "      <td id=\"T_b73b9_row7_col2\" class=\"data row7 col2\" >0.9463</td>\n",
       "      <td id=\"T_b73b9_row7_col3\" class=\"data row7 col3\" >0.8728</td>\n",
       "      <td id=\"T_b73b9_row7_col4\" class=\"data row7 col4\" >0.9081</td>\n",
       "      <td id=\"T_b73b9_row7_col5\" class=\"data row7 col5\" >0.6128</td>\n",
       "      <td id=\"T_b73b9_row7_col6\" class=\"data row7 col6\" >0.6219</td>\n",
       "    </tr>\n",
       "    <tr>\n",
       "      <th id=\"T_b73b9_level0_row8\" class=\"row_heading level0 row8\" >8</th>\n",
       "      <td id=\"T_b73b9_row8_col0\" class=\"data row8 col0\" >0.8578</td>\n",
       "      <td id=\"T_b73b9_row8_col1\" class=\"data row8 col1\" >0.0000</td>\n",
       "      <td id=\"T_b73b9_row8_col2\" class=\"data row8 col2\" >0.9433</td>\n",
       "      <td id=\"T_b73b9_row8_col3\" class=\"data row8 col3\" >0.8730</td>\n",
       "      <td id=\"T_b73b9_row8_col4\" class=\"data row8 col4\" >0.9068</td>\n",
       "      <td id=\"T_b73b9_row8_col5\" class=\"data row8 col5\" >0.6093</td>\n",
       "      <td id=\"T_b73b9_row8_col6\" class=\"data row8 col6\" >0.6175</td>\n",
       "    </tr>\n",
       "    <tr>\n",
       "      <th id=\"T_b73b9_level0_row9\" class=\"row_heading level0 row9\" >9</th>\n",
       "      <td id=\"T_b73b9_row9_col0\" class=\"data row9 col0\" >0.8555</td>\n",
       "      <td id=\"T_b73b9_row9_col1\" class=\"data row9 col1\" >0.0000</td>\n",
       "      <td id=\"T_b73b9_row9_col2\" class=\"data row9 col2\" >0.9433</td>\n",
       "      <td id=\"T_b73b9_row9_col3\" class=\"data row9 col3\" >0.8704</td>\n",
       "      <td id=\"T_b73b9_row9_col4\" class=\"data row9 col4\" >0.9054</td>\n",
       "      <td id=\"T_b73b9_row9_col5\" class=\"data row9 col5\" >0.6017</td>\n",
       "      <td id=\"T_b73b9_row9_col6\" class=\"data row9 col6\" >0.6106</td>\n",
       "    </tr>\n",
       "    <tr>\n",
       "      <th id=\"T_b73b9_level0_row10\" class=\"row_heading level0 row10\" >Mean</th>\n",
       "      <td id=\"T_b73b9_row10_col0\" class=\"data row10 col0\" >0.8571</td>\n",
       "      <td id=\"T_b73b9_row10_col1\" class=\"data row10 col1\" >0.0000</td>\n",
       "      <td id=\"T_b73b9_row10_col2\" class=\"data row10 col2\" >0.9447</td>\n",
       "      <td id=\"T_b73b9_row10_col3\" class=\"data row10 col3\" >0.8711</td>\n",
       "      <td id=\"T_b73b9_row10_col4\" class=\"data row10 col4\" >0.9064</td>\n",
       "      <td id=\"T_b73b9_row10_col5\" class=\"data row10 col5\" >0.6057</td>\n",
       "      <td id=\"T_b73b9_row10_col6\" class=\"data row10 col6\" >0.6148</td>\n",
       "    </tr>\n",
       "    <tr>\n",
       "      <th id=\"T_b73b9_level0_row11\" class=\"row_heading level0 row11\" >Std</th>\n",
       "      <td id=\"T_b73b9_row11_col0\" class=\"data row11 col0\" >0.0025</td>\n",
       "      <td id=\"T_b73b9_row11_col1\" class=\"data row11 col1\" >0.0000</td>\n",
       "      <td id=\"T_b73b9_row11_col2\" class=\"data row11 col2\" >0.0014</td>\n",
       "      <td id=\"T_b73b9_row11_col3\" class=\"data row11 col3\" >0.0024</td>\n",
       "      <td id=\"T_b73b9_row11_col4\" class=\"data row11 col4\" >0.0015</td>\n",
       "      <td id=\"T_b73b9_row11_col5\" class=\"data row11 col5\" >0.0077</td>\n",
       "      <td id=\"T_b73b9_row11_col6\" class=\"data row11 col6\" >0.0073</td>\n",
       "    </tr>\n",
       "  </tbody>\n",
       "</table>\n"
      ],
      "text/plain": [
       "<pandas.io.formats.style.Styler at 0x2c9890a68d0>"
      ]
     },
     "metadata": {},
     "output_type": "display_data"
    },
    {
     "data": {
      "text/html": [],
      "text/plain": [
       "<IPython.core.display.HTML object>"
      ]
     },
     "metadata": {},
     "output_type": "display_data"
    }
   ],
   "source": [
    "best_model = create_model(\"et\")"
   ]
  },
  {
   "cell_type": "code",
   "execution_count": 95,
   "id": "9e6d5869-8141-4854-a7b4-102ce5aaea78",
   "metadata": {},
   "outputs": [
    {
     "data": {
      "text/html": [],
      "text/plain": [
       "<IPython.core.display.HTML object>"
      ]
     },
     "metadata": {},
     "output_type": "display_data"
    },
    {
     "data": {
      "image/png": "[encoded data removed]",
      "text/plain": [
       "<Figure size 800x500 with 1 Axes>"
      ]
     },
     "metadata": {},
     "output_type": "display_data"
    }
   ],
   "source": [
    "plot_model(best_model, plot=\"feature\")"
   ]
  },
  {
   "cell_type": "raw",
   "id": "071b31f6-a1e7-4bc9-9c2d-c0881fff2b42",
   "metadata": {},
   "source": [
    "The best model is Extra Trees Classifier and the best important feature is Credit score according to PyCaret "
   ]
  },
  {
   "cell_type": "code",
   "execution_count": 197,
   "id": "7248b02b-406b-4964-aad7-976cdc97a9d5",
   "metadata": {},
   "outputs": [],
   "source": [
    "x_train, x_test, y_train, y_test = train_test_split(X,y, test_size=0.25, random_state=42)"
   ]
  },
  {
   "cell_type": "code",
   "execution_count": 198,
   "id": "7cdb6644-9830-4fcb-8fa9-948c4d16b7f4",
   "metadata": {},
   "outputs": [
    {
     "data": {
      "text/plain": [
       "0.8683186860682899"
      ]
     },
     "execution_count": 198,
     "metadata": {},
     "output_type": "execute_result"
    }
   ],
   "source": [
    "et = ExtraTreesClassifier(n_estimators=100, random_state=0)\n",
    "model = et.fit(x_train, y_train)\n",
    "predictions = model.predict(x_test)\n",
    "accuracy_score(predictions,y_test)"
   ]
  },
  {
   "cell_type": "code",
   "execution_count": 199,
   "id": "d1285c19-c538-44b5-b294-3e106927660a",
   "metadata": {},
   "outputs": [
    {
     "data": {
      "image/png": "[encoded data removed]",
      "text/plain": [
       "<Figure size 800x550 with 2 Axes>"
      ]
     },
     "metadata": {},
     "output_type": "display_data"
    }
   ],
   "source": [
    "cm = confusion_matrix(y_test,predictions)\n",
    "sns.heatmap(cm, annot=True, cmap='viridis');"
   ]
  },
  {
   "cell_type": "code",
   "execution_count": 200,
   "id": "6d25f38e-97a6-4a81-8a20-31b0eae42489",
   "metadata": {},
   "outputs": [
    {
     "data": {
      "text/plain": [
       "array([[ 8034,  1618],\n",
       "       [ 4780, 34155]], dtype=int64)"
      ]
     },
     "execution_count": 200,
     "metadata": {},
     "output_type": "execute_result"
    }
   ],
   "source": [
    "confusion_matrix(predictions,y_test)"
   ]
  },
  {
   "cell_type": "code",
   "execution_count": 201,
   "id": "2ed3c512-7db7-411e-a278-f60a6a968c42",
   "metadata": {},
   "outputs": [
    {
     "data": {
      "text/plain": [
       "0.8683186860682899"
      ]
     },
     "execution_count": 201,
     "metadata": {},
     "output_type": "execute_result"
    }
   ],
   "source": [
    "rf = RandomForestClassifier()\n",
    "model_rf = rf.fit(x_train, y_train)\n",
    "predictions_rf = model_rf.predict(x_test)\n",
    "accuracy_score(predictions,y_test)"
   ]
  },
  {
   "cell_type": "code",
   "execution_count": 202,
   "id": "f483a947-5237-4273-bf00-f418bb634682",
   "metadata": {},
   "outputs": [
    {
     "data": {
      "image/png": "[encoded data removed]",
      "text/plain": [
       "<Figure size 800x550 with 2 Axes>"
      ]
     },
     "metadata": {},
     "output_type": "display_data"
    }
   ],
   "source": [
    "sns.heatmap(confusion_matrix(predictions_rf,y_test), annot=True);"
   ]
  },
  {
   "cell_type": "code",
   "execution_count": 203,
   "id": "d5285af2-f988-453f-8fdb-d6987b0e360c",
   "metadata": {},
   "outputs": [
    {
     "data": {
      "text/plain": [
       "array([[ 7874,  1605],\n",
       "       [ 4940, 34168]], dtype=int64)"
      ]
     },
     "execution_count": 203,
     "metadata": {},
     "output_type": "execute_result"
    }
   ],
   "source": [
    "confusion_matrix(predictions_rf,y_test)"
   ]
  },
  {
   "cell_type": "code",
   "execution_count": 204,
   "id": "943077f4-e48b-468e-b01d-6ccbd0df6081",
   "metadata": {},
   "outputs": [
    {
     "name": "stdout",
     "output_type": "stream",
     "text": [
      "              precision    recall  f1-score   support\n",
      "\n",
      "           0       0.63      0.83      0.72      9652\n",
      "           1       0.95      0.88      0.91     38935\n",
      "\n",
      "    accuracy                           0.87     48587\n",
      "   macro avg       0.79      0.85      0.81     48587\n",
      "weighted avg       0.89      0.87      0.87     48587\n",
      "\n"
     ]
    }
   ],
   "source": [
    "print(classification_report(predictions,y_test))"
   ]
  },
  {
   "cell_type": "raw",
   "id": "c5205a89-d4b8-4a19-b82a-c4dd5b1f8d03",
   "metadata": {},
   "source": [
    "The best model is Extra Trees Classifier.An 86% accuracy for an Extra Trees Classifier model is generally a strong result, indicating effective learning from the training data."
   ]
  },
  {
   "cell_type": "markdown",
   "id": "7522634e-8533-41d0-a43a-2af4f26f22d0",
   "metadata": {},
   "source": [
    "## Feature importance"
   ]
  },
  {
   "cell_type": "code",
   "execution_count": 207,
   "id": "9fe974d1-33b1-4a0e-aada-759375093dcb",
   "metadata": {},
   "outputs": [
    {
     "data": {
      "image/png": "[encoded data removed]",
      "text/plain": [
       "<Figure size 800x550 with 1 Axes>"
      ]
     },
     "metadata": {},
     "output_type": "display_data"
    }
   ],
   "source": [
    "feature_importances = pd.Series(model.feature_importances_, index=X.columns)\n",
    "feature_importances.nlargest(10).plot(kind='barh')  \n",
    "plt.title('Feature Importance');\n"
   ]
  },
  {
   "cell_type": "code",
   "execution_count": null,
   "id": "844d0f89-3fdd-4684-906e-715eec751d87",
   "metadata": {},
   "outputs": [],
   "source": []
  }
 ],
 "metadata": {
  "kernelspec": {
   "display_name": "Python 3 (ipykernel)",
   "language": "python",
   "name": "python3"
  },
  "language_info": {
   "codemirror_mode": {
    "name": "ipython",
    "version": 3
   },
   "file_extension": ".py",
   "mimetype": "text/x-python",
   "name": "python",
   "nbconvert_exporter": "python",
   "pygments_lexer": "ipython3",
   "version": "3.11.5"
  },
  "widgets": {
   "application/vnd.jupyter.widget-state+json": {
    "state": {},
    "version_major": 2,
    "version_minor": 0
   }
  }
 },
 "nbformat": 4,
 "nbformat_minor": 5
}
